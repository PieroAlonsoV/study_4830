{
 "cells": [
  {
   "cell_type": "code",
   "id": "initial_id",
   "metadata": {
    "collapsed": true,
    "ExecuteTime": {
     "end_time": "2024-07-04T22:35:53.085915Z",
     "start_time": "2024-07-04T22:35:53.078526Z"
    }
   },
   "source": [
    "import numpy as np\n",
    "import pandas as pd\n",
    "import matplotlib.pyplot as plt\n",
    "import seaborn as sns"
   ],
   "outputs": [],
   "execution_count": 1
  },
  {
   "metadata": {
    "ExecuteTime": {
     "end_time": "2024-07-04T22:35:55.659401Z",
     "start_time": "2024-07-04T22:35:55.650247Z"
    }
   },
   "cell_type": "code",
   "source": [
    "import importlib\n",
    "import utils\n",
    "importlib.reload(utils)"
   ],
   "id": "11000f8548fbc84a",
   "outputs": [
    {
     "data": {
      "text/plain": [
       "<module 'utils' from 'D:\\\\3term\\\\DANA 4830\\\\study_4830\\\\utils.py'>"
      ]
     },
     "execution_count": 2,
     "metadata": {},
     "output_type": "execute_result"
    }
   ],
   "execution_count": 2
  },
  {
   "metadata": {
    "ExecuteTime": {
     "end_time": "2024-07-04T22:35:57.301437Z",
     "start_time": "2024-07-04T22:35:57.245052Z"
    }
   },
   "cell_type": "code",
   "source": [
    "df = pd.read_csv('data.csv').drop(columns = 'ID', axis=1)\n",
    "df = df.dropna(axis=0, how='any')\n",
    "X = df.drop(columns = 'class', axis =1 )\n",
    "y = df['class']\n",
    "df.head()"
   ],
   "id": "8da33b9692b5141e",
   "outputs": [
    {
     "data": {
      "text/plain": [
       "   air_time1  disp_index1  gmrt_in_air1  gmrt_on_paper1  max_x_extension1  \\\n",
       "0       5160     0.000013    120.804174       86.853334               957   \n",
       "1      51980     0.000016    115.318238       83.448681              1694   \n",
       "2       2600     0.000010    229.933997      172.761858              2333   \n",
       "3       2130     0.000010    369.403342      183.193104              1756   \n",
       "4       2310     0.000007    257.997131      111.275889               987   \n",
       "\n",
       "   max_y_extension1  mean_acc_in_air1  mean_acc_on_paper1  mean_gmrt1  \\\n",
       "0              6601          0.361800            0.217459  103.828754   \n",
       "1              6998          0.272513            0.144880   99.383459   \n",
       "2              5802          0.387020            0.181342  201.347928   \n",
       "3              8159          0.556879            0.164502  276.298223   \n",
       "4              4732          0.266077            0.145104  184.636510   \n",
       "\n",
       "   mean_jerk_in_air1  ...  mean_jerk_in_air25  mean_jerk_on_paper25  \\\n",
       "0           0.051836  ...            0.141434              0.024471   \n",
       "1           0.039827  ...            0.049663              0.018368   \n",
       "2           0.064220  ...            0.178194              0.017174   \n",
       "3           0.090408  ...            0.113905              0.019860   \n",
       "4           0.037528  ...            0.121782              0.020872   \n",
       "\n",
       "   mean_speed_in_air25  mean_speed_on_paper25  num_of_pendown25  paper_time25  \\\n",
       "0             5.596487               3.184589                71         40120   \n",
       "1             1.665973               0.950249               129        126700   \n",
       "2             4.000781               2.392521                74         45480   \n",
       "3             4.206746               1.613522               123         67945   \n",
       "4             3.319036               1.680629                92         37285   \n",
       "\n",
       "   pressure_mean25  pressure_var25  total_time25  class  \n",
       "0      1749.278166     296102.7676        144605      P  \n",
       "1      1504.768272     278744.2850        298640      P  \n",
       "2      1431.443492     144411.7055         79025      P  \n",
       "3      1465.843329     230184.7154        181220      P  \n",
       "4      1841.702561     158290.0255         72575      P  \n",
       "\n",
       "[5 rows x 451 columns]"
      ],
      "text/html": [
       "<div>\n",
       "<style scoped>\n",
       "    .dataframe tbody tr th:only-of-type {\n",
       "        vertical-align: middle;\n",
       "    }\n",
       "\n",
       "    .dataframe tbody tr th {\n",
       "        vertical-align: top;\n",
       "    }\n",
       "\n",
       "    .dataframe thead th {\n",
       "        text-align: right;\n",
       "    }\n",
       "</style>\n",
       "<table border=\"1\" class=\"dataframe\">\n",
       "  <thead>\n",
       "    <tr style=\"text-align: right;\">\n",
       "      <th></th>\n",
       "      <th>air_time1</th>\n",
       "      <th>disp_index1</th>\n",
       "      <th>gmrt_in_air1</th>\n",
       "      <th>gmrt_on_paper1</th>\n",
       "      <th>max_x_extension1</th>\n",
       "      <th>max_y_extension1</th>\n",
       "      <th>mean_acc_in_air1</th>\n",
       "      <th>mean_acc_on_paper1</th>\n",
       "      <th>mean_gmrt1</th>\n",
       "      <th>mean_jerk_in_air1</th>\n",
       "      <th>...</th>\n",
       "      <th>mean_jerk_in_air25</th>\n",
       "      <th>mean_jerk_on_paper25</th>\n",
       "      <th>mean_speed_in_air25</th>\n",
       "      <th>mean_speed_on_paper25</th>\n",
       "      <th>num_of_pendown25</th>\n",
       "      <th>paper_time25</th>\n",
       "      <th>pressure_mean25</th>\n",
       "      <th>pressure_var25</th>\n",
       "      <th>total_time25</th>\n",
       "      <th>class</th>\n",
       "    </tr>\n",
       "  </thead>\n",
       "  <tbody>\n",
       "    <tr>\n",
       "      <th>0</th>\n",
       "      <td>5160</td>\n",
       "      <td>0.000013</td>\n",
       "      <td>120.804174</td>\n",
       "      <td>86.853334</td>\n",
       "      <td>957</td>\n",
       "      <td>6601</td>\n",
       "      <td>0.361800</td>\n",
       "      <td>0.217459</td>\n",
       "      <td>103.828754</td>\n",
       "      <td>0.051836</td>\n",
       "      <td>...</td>\n",
       "      <td>0.141434</td>\n",
       "      <td>0.024471</td>\n",
       "      <td>5.596487</td>\n",
       "      <td>3.184589</td>\n",
       "      <td>71</td>\n",
       "      <td>40120</td>\n",
       "      <td>1749.278166</td>\n",
       "      <td>296102.7676</td>\n",
       "      <td>144605</td>\n",
       "      <td>P</td>\n",
       "    </tr>\n",
       "    <tr>\n",
       "      <th>1</th>\n",
       "      <td>51980</td>\n",
       "      <td>0.000016</td>\n",
       "      <td>115.318238</td>\n",
       "      <td>83.448681</td>\n",
       "      <td>1694</td>\n",
       "      <td>6998</td>\n",
       "      <td>0.272513</td>\n",
       "      <td>0.144880</td>\n",
       "      <td>99.383459</td>\n",
       "      <td>0.039827</td>\n",
       "      <td>...</td>\n",
       "      <td>0.049663</td>\n",
       "      <td>0.018368</td>\n",
       "      <td>1.665973</td>\n",
       "      <td>0.950249</td>\n",
       "      <td>129</td>\n",
       "      <td>126700</td>\n",
       "      <td>1504.768272</td>\n",
       "      <td>278744.2850</td>\n",
       "      <td>298640</td>\n",
       "      <td>P</td>\n",
       "    </tr>\n",
       "    <tr>\n",
       "      <th>2</th>\n",
       "      <td>2600</td>\n",
       "      <td>0.000010</td>\n",
       "      <td>229.933997</td>\n",
       "      <td>172.761858</td>\n",
       "      <td>2333</td>\n",
       "      <td>5802</td>\n",
       "      <td>0.387020</td>\n",
       "      <td>0.181342</td>\n",
       "      <td>201.347928</td>\n",
       "      <td>0.064220</td>\n",
       "      <td>...</td>\n",
       "      <td>0.178194</td>\n",
       "      <td>0.017174</td>\n",
       "      <td>4.000781</td>\n",
       "      <td>2.392521</td>\n",
       "      <td>74</td>\n",
       "      <td>45480</td>\n",
       "      <td>1431.443492</td>\n",
       "      <td>144411.7055</td>\n",
       "      <td>79025</td>\n",
       "      <td>P</td>\n",
       "    </tr>\n",
       "    <tr>\n",
       "      <th>3</th>\n",
       "      <td>2130</td>\n",
       "      <td>0.000010</td>\n",
       "      <td>369.403342</td>\n",
       "      <td>183.193104</td>\n",
       "      <td>1756</td>\n",
       "      <td>8159</td>\n",
       "      <td>0.556879</td>\n",
       "      <td>0.164502</td>\n",
       "      <td>276.298223</td>\n",
       "      <td>0.090408</td>\n",
       "      <td>...</td>\n",
       "      <td>0.113905</td>\n",
       "      <td>0.019860</td>\n",
       "      <td>4.206746</td>\n",
       "      <td>1.613522</td>\n",
       "      <td>123</td>\n",
       "      <td>67945</td>\n",
       "      <td>1465.843329</td>\n",
       "      <td>230184.7154</td>\n",
       "      <td>181220</td>\n",
       "      <td>P</td>\n",
       "    </tr>\n",
       "    <tr>\n",
       "      <th>4</th>\n",
       "      <td>2310</td>\n",
       "      <td>0.000007</td>\n",
       "      <td>257.997131</td>\n",
       "      <td>111.275889</td>\n",
       "      <td>987</td>\n",
       "      <td>4732</td>\n",
       "      <td>0.266077</td>\n",
       "      <td>0.145104</td>\n",
       "      <td>184.636510</td>\n",
       "      <td>0.037528</td>\n",
       "      <td>...</td>\n",
       "      <td>0.121782</td>\n",
       "      <td>0.020872</td>\n",
       "      <td>3.319036</td>\n",
       "      <td>1.680629</td>\n",
       "      <td>92</td>\n",
       "      <td>37285</td>\n",
       "      <td>1841.702561</td>\n",
       "      <td>158290.0255</td>\n",
       "      <td>72575</td>\n",
       "      <td>P</td>\n",
       "    </tr>\n",
       "  </tbody>\n",
       "</table>\n",
       "<p>5 rows × 451 columns</p>\n",
       "</div>"
      ]
     },
     "execution_count": 3,
     "metadata": {},
     "output_type": "execute_result"
    }
   ],
   "execution_count": 3
  },
  {
   "metadata": {
    "ExecuteTime": {
     "end_time": "2024-07-04T22:36:02.848347Z",
     "start_time": "2024-07-04T22:36:02.843974Z"
    }
   },
   "cell_type": "code",
   "source": "int_columns, float_columns, object_columns, numerical_columns = utils.columns_df(X)",
   "id": "d8a6eac3805c8e52",
   "outputs": [
    {
     "name": "stdout",
     "output_type": "stream",
     "text": [
      "Shape: (174, 450)\n",
      "Numerical features:  450\n",
      "Categorical features:  0\n"
     ]
    }
   ],
   "execution_count": 4
  },
  {
   "metadata": {
    "ExecuteTime": {
     "end_time": "2024-07-04T22:36:07.530685Z",
     "start_time": "2024-07-04T22:36:07.526584Z"
    }
   },
   "cell_type": "code",
   "source": "X_v = pd.DataFrame()",
   "id": "c9d99bf37788bc1c",
   "outputs": [],
   "execution_count": 5
  },
  {
   "metadata": {
    "ExecuteTime": {
     "end_time": "2024-07-04T22:36:09.015157Z",
     "start_time": "2024-07-04T22:36:08.793948Z"
    }
   },
   "cell_type": "code",
   "source": [
    "for r in range(X.shape[0]):\n",
    "    row = X.iloc[r,:]\n",
    "    features = {}\n",
    "    for i in range(25):\n",
    "        task = 'task_' + str(i+1)\n",
    "        i_vector = []\n",
    "        lim_inf = i*18\n",
    "        lim_sup = i*18+17\n",
    "        features[task] = np.array(row[lim_inf:lim_sup+1])\n",
    "    row_df = pd.DataFrame([features])\n",
    "    X_v = pd.concat([X_v, row_df], ignore_index=True)"
   ],
   "id": "e96ec2b2b069b572",
   "outputs": [],
   "execution_count": 6
  },
  {
   "metadata": {
    "ExecuteTime": {
     "end_time": "2024-07-04T22:36:12.428745Z",
     "start_time": "2024-07-04T22:36:12.423434Z"
    }
   },
   "cell_type": "code",
   "source": "X_v.shape",
   "id": "be0d6a273ef625db",
   "outputs": [
    {
     "data": {
      "text/plain": [
       "(174, 25)"
      ]
     },
     "execution_count": 7,
     "metadata": {},
     "output_type": "execute_result"
    }
   ],
   "execution_count": 7
  },
  {
   "metadata": {},
   "cell_type": "markdown",
   "source": "# PCA",
   "id": "24b81f7f3a579b5a"
  },
  {
   "metadata": {
    "ExecuteTime": {
     "end_time": "2024-07-04T23:10:10.818374Z",
     "start_time": "2024-07-04T23:10:10.813605Z"
    }
   },
   "cell_type": "code",
   "source": "X_pca_dict = {}",
   "id": "f0010788ef86bbb9",
   "outputs": [],
   "execution_count": 57
  },
  {
   "metadata": {
    "ExecuteTime": {
     "end_time": "2024-07-04T23:16:37.668491Z",
     "start_time": "2024-07-04T23:16:37.599029Z"
    }
   },
   "cell_type": "code",
   "source": [
    "from sklearn.preprocessing import StandardScaler\n",
    "from sklearn.decomposition import PCA\n",
    "for i in range(25):\n",
    "    mytask = 'task_' + str(i+1)\n",
    "    task_i = X_v[mytask]\n",
    "    task_i_df = pd.DataFrame(task_i.tolist(), index = task_i.index)\n",
    "    \n",
    "    scaler = StandardScaler()\n",
    "    X_scaled = scaler.fit_transform(task_i_df)\n",
    "    \n",
    "    pca = PCA(0.8)\n",
    "    X_pca = pca.fit_transform(X_scaled)\n",
    "    n_columns_pca = X_pca.shape[1]\n",
    "    columns_pca = [mytask+'_PC_'+str(i+1) for i in range(n_columns_pca)]\n",
    "    X_pca_df = pd.DataFrame(X_pca)\n",
    "    X_pca_df.columns = columns_pca\n",
    "    X_pca_dict[mytask] = X_pca_df"
   ],
   "id": "5683c1a772d5e16a",
   "outputs": [],
   "execution_count": 75
  },
  {
   "metadata": {
    "ExecuteTime": {
     "end_time": "2024-07-04T23:16:22.843988Z",
     "start_time": "2024-07-04T23:16:22.839207Z"
    }
   },
   "cell_type": "code",
   "source": "X_pca_dict.keys()",
   "id": "59fafdd14090fc1e",
   "outputs": [
    {
     "data": {
      "text/plain": [
       "dict_keys(['task_1', 'task_2', 'task_3', 'task_4', 'task_5', 'task_6', 'task_7', 'task_8', 'task_9', 'task_10', 'task_11', 'task_12', 'task_13', 'task_14', 'task_15', 'task_16', 'task_17', 'task_18', 'task_19', 'task_20', 'task_21', 'task_22', 'task_23', 'task_24', 'task_25'])"
      ]
     },
     "execution_count": 73,
     "metadata": {},
     "output_type": "execute_result"
    }
   ],
   "execution_count": 73
  },
  {
   "metadata": {
    "ExecuteTime": {
     "end_time": "2024-07-04T23:18:28.165562Z",
     "start_time": "2024-07-04T23:18:28.162055Z"
    }
   },
   "cell_type": "code",
   "source": "df_of_pca = pd.DataFrame()",
   "id": "e557c0054e17ec9c",
   "outputs": [],
   "execution_count": 77
  },
  {
   "metadata": {
    "ExecuteTime": {
     "end_time": "2024-07-04T23:19:40.739247Z",
     "start_time": "2024-07-04T23:19:40.725653Z"
    }
   },
   "cell_type": "code",
   "source": [
    "for k, v in X_pca_dict.items():\n",
    "    df_of_pca = pd.concat([df_of_pca, X_pca_dict[k]], axis=1)"
   ],
   "id": "c61074dad954581f",
   "outputs": [
    {
     "data": {
      "text/plain": [
       "(174, 250)"
      ]
     },
     "execution_count": 80,
     "metadata": {},
     "output_type": "execute_result"
    }
   ],
   "execution_count": 80
  },
  {
   "metadata": {
    "ExecuteTime": {
     "end_time": "2024-07-04T23:20:32.185611Z",
     "start_time": "2024-07-04T23:20:32.181483Z"
    }
   },
   "cell_type": "code",
   "source": [
    "print('Original shape: ', X.shape)\n",
    "print('New shape, after PCA: ',df_of_pca.shape)"
   ],
   "id": "5a9649f1ae00b150",
   "outputs": [
    {
     "name": "stdout",
     "output_type": "stream",
     "text": [
      "Original shape:  (174, 450)\n",
      "New shape, after PCA:  (174, 250)\n"
     ]
    }
   ],
   "execution_count": 82
  },
  {
   "metadata": {},
   "cell_type": "markdown",
   "source": "# Train and test dataset split",
   "id": "b01b7b9d113ae538"
  },
  {
   "metadata": {
    "ExecuteTime": {
     "end_time": "2024-07-04T23:26:06.198577Z",
     "start_time": "2024-07-04T23:26:06.189782Z"
    }
   },
   "cell_type": "code",
   "source": [
    "from sklearn.model_selection import train_test_split\n",
    "X_train, X_test, y_train, y_test = train_test_split(X, y, test_size=0.2, random_state=123)\n",
    "print(X_train.shape, y_train.shape)\n",
    "print(X_test.shape, y_test.shape)"
   ],
   "id": "2cb58381df331707",
   "outputs": [
    {
     "name": "stdout",
     "output_type": "stream",
     "text": [
      "(139, 450) (139,)\n",
      "(35, 450) (35,)\n"
     ]
    }
   ],
   "execution_count": 83
  },
  {
   "metadata": {
    "ExecuteTime": {
     "end_time": "2024-07-04T23:26:15.532988Z",
     "start_time": "2024-07-04T23:26:15.527379Z"
    }
   },
   "cell_type": "code",
   "source": [
    "X_train2, X_test2, y_train2, y_test2 = train_test_split(df_of_pca, y, test_size=0.2, random_state=123)\n",
    "print(X_train2.shape, y_train2.shape)\n",
    "print(X_test2.shape, y_test2.shape)"
   ],
   "id": "532cb373123e3924",
   "outputs": [
    {
     "name": "stdout",
     "output_type": "stream",
     "text": [
      "(139, 250) (139,)\n",
      "(35, 250) (35,)\n"
     ]
    }
   ],
   "execution_count": 84
  },
  {
   "metadata": {},
   "cell_type": "markdown",
   "source": "# Decision Tree classifier (Full dataset and PCA dataset)",
   "id": "e0ca7ed26c2d5c29"
  },
  {
   "metadata": {
    "ExecuteTime": {
     "end_time": "2024-07-04T23:29:12.810066Z",
     "start_time": "2024-07-04T23:29:12.807116Z"
    }
   },
   "cell_type": "code",
   "source": [
    "from sklearn.tree import DecisionTreeClassifier\n",
    "from sklearn.metrics import accuracy_score"
   ],
   "id": "35acbd096877d693",
   "outputs": [],
   "execution_count": 85
  },
  {
   "metadata": {
    "ExecuteTime": {
     "end_time": "2024-07-04T23:29:49.960265Z",
     "start_time": "2024-07-04T23:29:49.893698Z"
    }
   },
   "cell_type": "code",
   "source": [
    "clf = DecisionTreeClassifier()\n",
    "clf2 = DecisionTreeClassifier()\n",
    "\n",
    "clf.fit(X_train, y_train)\n",
    "clf2.fit(X_train2, y_train2)\n",
    "\n",
    "y_pred = clf.predict(X_test)\n",
    "y_pred2 = clf2.predict(X_test2)"
   ],
   "id": "832ca1f3a1de9a7d",
   "outputs": [],
   "execution_count": 86
  },
  {
   "metadata": {
    "ExecuteTime": {
     "end_time": "2024-07-04T23:30:04.736563Z",
     "start_time": "2024-07-04T23:30:04.732405Z"
    }
   },
   "cell_type": "code",
   "source": [
    "print(accuracy_score(y_test, y_pred))\n",
    "print(accuracy_score(y_test, y_pred2))"
   ],
   "id": "b0039128effec4df",
   "outputs": [
    {
     "name": "stdout",
     "output_type": "stream",
     "text": [
      "0.7714285714285715\n",
      "0.7428571428571429\n"
     ]
    }
   ],
   "execution_count": 87
  },
  {
   "metadata": {},
   "cell_type": "markdown",
   "source": "# Ignore from here",
   "id": "58636117137d2b9d"
  },
  {
   "metadata": {
    "ExecuteTime": {
     "end_time": "2024-07-04T22:36:22.629146Z",
     "start_time": "2024-07-04T22:36:22.292760Z"
    }
   },
   "cell_type": "code",
   "source": [
    "\n",
    "models = {}\n",
    "for i in range(25):\n",
    "    row = {}\n",
    "    row['task'] = i+1\n",
    "    \n",
    "    row['label'] = 'Model_DTree_'+str(i+1)\n",
    "    \n",
    "    column = 'task_'+str(i+1)\n",
    "    train =  X_train[column]\n",
    "    train_df = pd.DataFrame(train.tolist(), index = train.index)\n",
    "    test = X_test[column]\n",
    "    test_df = pd.DataFrame(test.tolist(), index = test.index)\n",
    "    \n",
    "    clf = DecisionTreeClassifier()\n",
    "    clf.fit(train_df, y_train)\n",
    "    y_pred = clf.predict(test_df)\n",
    "    row['model'] = clf\n",
    "    row['train'] = train_df\n",
    "    row['test'] = test_df\n",
    "    row['pred'] = y_pred\n",
    "    row['accuracy'] = accuracy_score(y_test, y_pred)\n",
    "    models[i+1]= row"
   ],
   "id": "7f2d64172d42ee8",
   "outputs": [],
   "execution_count": 10
  },
  {
   "metadata": {
    "ExecuteTime": {
     "end_time": "2024-07-04T19:44:46.429777Z",
     "start_time": "2024-07-04T19:44:46.425240Z"
    }
   },
   "cell_type": "code",
   "source": "",
   "id": "eed79461771e9641",
   "outputs": [
    {
     "data": {
      "text/plain": [
       "array(['H', 'H', 'H', 'P', 'H', 'P', 'P', 'H', 'H', 'P', 'P', 'H', 'H',\n",
       "       'H', 'H', 'P', 'H', 'P', 'H', 'P', 'H', 'P', 'P', 'H', 'H', 'P',\n",
       "       'H', 'P', 'P', 'P', 'H', 'P', 'P', 'P', 'P'], dtype=object)"
      ]
     },
     "execution_count": 73,
     "metadata": {},
     "output_type": "execute_result"
    }
   ],
   "execution_count": 73
  },
  {
   "metadata": {},
   "cell_type": "code",
   "outputs": [
    {
     "data": {
      "text/plain": [
       "  task          label                     model  \\\n",
       "1    1  Model_DTree_1  DecisionTreeClassifier()   \n",
       "2    2  Model_DTree_2  DecisionTreeClassifier()   \n",
       "3    3  Model_DTree_3  DecisionTreeClassifier()   \n",
       "4    4  Model_DTree_4  DecisionTreeClassifier()   \n",
       "5    5  Model_DTree_5  DecisionTreeClassifier()   \n",
       "\n",
       "                                               train  \\\n",
       "1            0         1           2           3 ...   \n",
       "2            0         1           2           3 ...   \n",
       "3            0         1           2           3 ...   \n",
       "4            0         1           2           3 ...   \n",
       "5           0         1           2           3  ...   \n",
       "\n",
       "                                                test  \\\n",
       "1            0         1            2           3...   \n",
       "2            0         1           2           3 ...   \n",
       "3            0         1           2           3 ...   \n",
       "4            0         1           2           3 ...   \n",
       "5            0         1           2           3 ...   \n",
       "\n",
       "                                                pred  accuracy  \n",
       "1  [H, H, H, P, P, P, H, H, H, P, P, H, P, P, P, ...  0.657143  \n",
       "2  [H, P, P, P, P, P, H, H, H, P, H, H, H, H, P, ...  0.685714  \n",
       "3  [P, P, H, P, H, H, P, P, H, H, H, P, H, H, H, ...       0.6  \n",
       "4  [H, H, H, P, H, P, P, P, H, P, P, P, H, P, H, ...  0.628571  \n",
       "5  [H, H, H, P, P, P, P, H, H, P, P, H, H, P, H, ...  0.657143  "
      ],
      "text/html": [
       "<div>\n",
       "<style scoped>\n",
       "    .dataframe tbody tr th:only-of-type {\n",
       "        vertical-align: middle;\n",
       "    }\n",
       "\n",
       "    .dataframe tbody tr th {\n",
       "        vertical-align: top;\n",
       "    }\n",
       "\n",
       "    .dataframe thead th {\n",
       "        text-align: right;\n",
       "    }\n",
       "</style>\n",
       "<table border=\"1\" class=\"dataframe\">\n",
       "  <thead>\n",
       "    <tr style=\"text-align: right;\">\n",
       "      <th></th>\n",
       "      <th>task</th>\n",
       "      <th>label</th>\n",
       "      <th>model</th>\n",
       "      <th>train</th>\n",
       "      <th>test</th>\n",
       "      <th>pred</th>\n",
       "      <th>accuracy</th>\n",
       "    </tr>\n",
       "  </thead>\n",
       "  <tbody>\n",
       "    <tr>\n",
       "      <th>1</th>\n",
       "      <td>1</td>\n",
       "      <td>Model_DTree_1</td>\n",
       "      <td>DecisionTreeClassifier()</td>\n",
       "      <td>0         1           2           3 ...</td>\n",
       "      <td>0         1            2           3...</td>\n",
       "      <td>[H, H, H, P, P, P, H, H, H, P, P, H, P, P, P, ...</td>\n",
       "      <td>0.657143</td>\n",
       "    </tr>\n",
       "    <tr>\n",
       "      <th>2</th>\n",
       "      <td>2</td>\n",
       "      <td>Model_DTree_2</td>\n",
       "      <td>DecisionTreeClassifier()</td>\n",
       "      <td>0         1           2           3 ...</td>\n",
       "      <td>0         1           2           3 ...</td>\n",
       "      <td>[H, P, P, P, P, P, H, H, H, P, H, H, H, H, P, ...</td>\n",
       "      <td>0.685714</td>\n",
       "    </tr>\n",
       "    <tr>\n",
       "      <th>3</th>\n",
       "      <td>3</td>\n",
       "      <td>Model_DTree_3</td>\n",
       "      <td>DecisionTreeClassifier()</td>\n",
       "      <td>0         1           2           3 ...</td>\n",
       "      <td>0         1           2           3 ...</td>\n",
       "      <td>[P, P, H, P, H, H, P, P, H, H, H, P, H, H, H, ...</td>\n",
       "      <td>0.6</td>\n",
       "    </tr>\n",
       "    <tr>\n",
       "      <th>4</th>\n",
       "      <td>4</td>\n",
       "      <td>Model_DTree_4</td>\n",
       "      <td>DecisionTreeClassifier()</td>\n",
       "      <td>0         1           2           3 ...</td>\n",
       "      <td>0         1           2           3 ...</td>\n",
       "      <td>[H, H, H, P, H, P, P, P, H, P, P, P, H, P, H, ...</td>\n",
       "      <td>0.628571</td>\n",
       "    </tr>\n",
       "    <tr>\n",
       "      <th>5</th>\n",
       "      <td>5</td>\n",
       "      <td>Model_DTree_5</td>\n",
       "      <td>DecisionTreeClassifier()</td>\n",
       "      <td>0         1           2           3  ...</td>\n",
       "      <td>0         1           2           3 ...</td>\n",
       "      <td>[H, H, H, P, P, P, P, H, H, P, P, H, H, P, H, ...</td>\n",
       "      <td>0.657143</td>\n",
       "    </tr>\n",
       "  </tbody>\n",
       "</table>\n",
       "</div>"
      ]
     },
     "execution_count": 71,
     "metadata": {},
     "output_type": "execute_result"
    }
   ],
   "execution_count": 71,
   "source": [
    "models_df = pd.DataFrame(models).transpose()\n",
    "models_df.head()"
   ],
   "id": "cc2b39fd1dde6f96"
  },
  {
   "metadata": {
    "ExecuteTime": {
     "end_time": "2024-07-04T18:50:52.188278Z",
     "start_time": "2024-07-04T18:50:51.975087Z"
    }
   },
   "cell_type": "code",
   "source": [
    "sns.barplot(x='task', y='accuracy', data=models_df)\n",
    "plt.show()"
   ],
   "id": "1212aac097bc0d7d",
   "outputs": [
    {
     "data": {
      "text/plain": [
       "<Figure size 640x480 with 1 Axes>"
      ],
      "image/png": "[encoded data removed]"
     },
     "metadata": {},
     "output_type": "display_data"
    }
   ],
   "execution_count": 72
  }
 ],
 "metadata": {
  "kernelspec": {
   "display_name": "Python 3",
   "language": "python",
   "name": "python3"
  },
  "language_info": {
   "codemirror_mode": {
    "name": "ipython",
    "version": 2
   },
   "file_extension": ".py",
   "mimetype": "text/x-python",
   "name": "python",
   "nbconvert_exporter": "python",
   "pygments_lexer": "ipython2",
   "version": "2.7.6"
  }
 },
 "nbformat": 4,
 "nbformat_minor": 5
}
