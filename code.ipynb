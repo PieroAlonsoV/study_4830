{
 "cells": [
  {
   "metadata": {},
   "cell_type": "markdown",
   "source": "# Importing dataset",
   "id": "79be90b3750e0d68"
  },
  {
   "cell_type": "code",
   "id": "initial_id",
   "metadata": {
    "collapsed": true
   },
   "source": [
    "import numpy as np\n",
    "import pandas as pd\n",
    "import matplotlib.pyplot as plt\n",
    "import seaborn as sns"
   ],
   "outputs": [],
   "execution_count": null
  },
  {
   "metadata": {},
   "cell_type": "code",
   "source": [
    "import importlib\n",
    "import utils\n",
    "importlib.reload(utils)"
   ],
   "id": "11000f8548fbc84a",
   "outputs": [],
   "execution_count": null
  },
  {
   "metadata": {},
   "cell_type": "code",
   "source": [
    "df = pd.read_csv('data.csv').drop(columns = 'ID', axis=1)\n",
    "df = df.dropna(axis=0, how='any')\n",
    "X = df.drop(columns = 'class', axis = 1 )\n",
    "y = df['class']"
   ],
   "id": "8da33b9692b5141e",
   "outputs": [],
   "execution_count": null
  },
  {
   "metadata": {},
   "cell_type": "markdown",
   "source": "# Explanatory variable",
   "id": "9d196fb67d0edf2e"
  },
  {
   "metadata": {},
   "cell_type": "code",
   "source": "int_columns, float_columns, object_columns, numerical_columns = utils.columns_df(X)",
   "id": "ebbbf5e9a525b3a6",
   "outputs": [],
   "execution_count": null
  },
  {
   "metadata": {},
   "cell_type": "markdown",
   "source": "# Target variable",
   "id": "6f0177553279bc0a"
  },
  {
   "metadata": {},
   "cell_type": "code",
   "source": "y.value_counts()",
   "id": "2c060387ffa880f3",
   "outputs": [],
   "execution_count": null
  },
  {
   "metadata": {},
   "cell_type": "code",
   "source": "y = y.replace({'P': 1, 'H': 0})",
   "id": "e641fabf4ee607f8",
   "outputs": [],
   "execution_count": null
  },
  {
   "metadata": {},
   "cell_type": "markdown",
   "source": "Let's group each task as one sub X dataframe",
   "id": "5a2f09906283eac6"
  },
  {
   "metadata": {},
   "cell_type": "code",
   "source": [
    "dataframes = utils.split_df(X, n = 25, n_col=18)\n",
    "keys = list(dataframes.keys())"
   ],
   "id": "1ce4ab9f43392de",
   "outputs": [],
   "execution_count": null
  },
  {
   "metadata": {},
   "cell_type": "markdown",
   "source": "# PCA",
   "id": "24b81f7f3a579b5a"
  },
  {
   "metadata": {},
   "cell_type": "markdown",
   "source": "We will collect Principal components for each task following the kaiser criteria",
   "id": "58f3da93364dddf6"
  },
  {
   "metadata": {},
   "cell_type": "code",
   "source": [
    "from sklearn.preprocessing import StandardScaler\n",
    "from sklearn.decomposition import PCA\n",
    "df_pca = {}\n",
    "X_pca = pd.DataFrame()\n",
    "for k in keys:\n",
    "    scaler = StandardScaler()\n",
    "    df_k = dataframes[k]\n",
    "    df_k_scaled = scaler.fit_transform(df_k)\n",
    "    pca = PCA(n_components=17)\n",
    "    df_pca_k = pca.fit_transform(df_k_scaled)\n",
    "    name_columns = ['task_'+str(k[2:]) + '_PC_'+str(x) for x in range(1,18)]\n",
    "    df_pca_k = pd.DataFrame(df_pca_k, columns=name_columns)\n",
    "    eigenvalues = pca.explained_variance_ # eigen values\n",
    "    kaiser_criteria = eigenvalues > 1 # kaiser\n",
    "    num_components = np.sum(kaiser_criteria)\n",
    "    \n",
    "    df_pca[k] = df_pca_k.iloc[:, :num_components]    \n",
    "    X_pca = pd.concat([X_pca, df_pca[k]], axis = 1)"
   ],
   "id": "a64ddfdd1dee978c",
   "outputs": [],
   "execution_count": null
  },
  {
   "metadata": {},
   "cell_type": "code",
   "source": "X_pca.head()",
   "id": "5a9649f1ae00b150",
   "outputs": [],
   "execution_count": null
  },
  {
   "metadata": {},
   "cell_type": "markdown",
   "source": "# Train and test dataset split",
   "id": "b01b7b9d113ae538"
  },
  {
   "metadata": {},
   "cell_type": "code",
   "source": [
    "from sklearn.model_selection import train_test_split\n",
    "X_train, X_test, y_train, y_test = train_test_split(X_pca, y, test_size=0.2, random_state=123)\n",
    "print(X_train.shape, y_train.shape)\n",
    "print(X_test.shape, y_test.shape)\n",
    "\n",
    "#X_train2, X_test2, y_train2, y_test2 = train_test_split(X_pca, y, test_size=0.2, random_state=123)\n",
    "#print(X_train2.shape, y_train2.shape)\n",
    "#print(X_test2.shape, y_test2.shape)"
   ],
   "id": "2cb58381df331707",
   "outputs": [],
   "execution_count": null
  },
  {
   "metadata": {},
   "cell_type": "markdown",
   "source": "# Metric: recall for class 1 (no healthy)",
   "id": "79bc29f0a79c3541"
  },
  {
   "metadata": {},
   "cell_type": "code",
   "source": [
    "from sklearn.metrics import make_scorer, recall_score\n",
    "from sklearn.model_selection import cross_val_score\n",
    "scorer = make_scorer(recall_score, pos_label=1)"
   ],
   "id": "4152047c708639f9",
   "outputs": [],
   "execution_count": null
  },
  {
   "metadata": {},
   "cell_type": "code",
   "source": [
    "# number of k folds\n",
    "k_1 = 2\n",
    "scores_k_1 = []\n",
    "k_2 = 5\n",
    "scores_k_2 = []\n",
    "k_3 = 10\n",
    "scores_k_3= []\n",
    "\n",
    "name_classifiers=['RF', 'KNN', 'MLP', 'DT', 'NB', 'LR','SVM', 'Stacked']"
   ],
   "id": "d6ae8b1c95a95c65",
   "outputs": [],
   "execution_count": null
  },
  {
   "metadata": {},
   "cell_type": "markdown",
   "source": "## Random Forest",
   "id": "a9ed9651b89147b7"
  },
  {
   "metadata": {},
   "cell_type": "code",
   "source": [
    "from sklearn.ensemble import RandomForestClassifier\n",
    "clf_rf = RandomForestClassifier(n_estimators=100, random_state=123)\n",
    "\n",
    "scores = cross_val_score(clf_rf, X, y, cv=k_1, scoring=scorer)\n",
    "scores_k_1.append(np.mean(scores))\n",
    "\n",
    "scores = cross_val_score(clf_rf, X, y, cv=k_2, scoring=scorer)\n",
    "scores_k_2.append(np.mean(scores))\n",
    "\n",
    "scores = cross_val_score(clf_rf, X, y, cv=k_3, scoring=scorer)\n",
    "scores_k_3.append(np.mean(scores))\n",
    "\n",
    "print(np.mean(scores))"
   ],
   "id": "53a4ce34a9b57644",
   "outputs": [],
   "execution_count": null
  },
  {
   "metadata": {},
   "cell_type": "markdown",
   "source": "## KNN",
   "id": "822b5d854fdc34a7"
  },
  {
   "metadata": {},
   "cell_type": "code",
   "source": [
    "from sklearn.neighbors import KNeighborsClassifier\n",
    "clf_knn = KNeighborsClassifier(n_neighbors=3)\n",
    "\n",
    "scores = cross_val_score(clf_knn, X, y, cv=k_1, scoring=scorer)\n",
    "scores_k_1.append(np.mean(scores))\n",
    "\n",
    "scores = cross_val_score(clf_knn, X, y, cv=k_2, scoring=scorer)\n",
    "scores_k_2.append(np.mean(scores))\n",
    "\n",
    "scores = cross_val_score(clf_knn, X, y, cv=k_3, scoring=scorer)\n",
    "scores_k_3.append(np.mean(scores))\n",
    "\n",
    "print(np.mean(scores))"
   ],
   "id": "a06e057db622460f",
   "outputs": [],
   "execution_count": null
  },
  {
   "metadata": {},
   "cell_type": "markdown",
   "source": "## MLP",
   "id": "19536559b5b28d29"
  },
  {
   "metadata": {},
   "cell_type": "code",
   "source": [
    "from sklearn.neural_network import MLPClassifier\n",
    "clf_mlp = MLPClassifier(hidden_layer_sizes=(100,), max_iter=500)\n",
    "scores = cross_val_score(clf_mlp, X, y, cv=k_1, scoring=scorer)\n",
    "\n",
    "scores = cross_val_score(clf_mlp, X, y, cv=k_1, scoring=scorer)\n",
    "scores_k_1.append(np.mean(scores))\n",
    "\n",
    "scores = cross_val_score(clf_mlp, X, y, cv=k_2, scoring=scorer)\n",
    "scores_k_2.append(np.mean(scores))\n",
    "\n",
    "scores = cross_val_score(clf_mlp, X, y, cv=k_3, scoring=scorer)\n",
    "scores_k_3.append(np.mean(scores))\n",
    "\n",
    "print(np.mean(scores))"
   ],
   "id": "64cf63fb671fe4",
   "outputs": [],
   "execution_count": null
  },
  {
   "metadata": {},
   "cell_type": "markdown",
   "source": "## Decision tree",
   "id": "f8cbc93eee87d1a1"
  },
  {
   "metadata": {},
   "cell_type": "code",
   "source": [
    "from sklearn.tree import DecisionTreeClassifier\n",
    "clf_dtree = DecisionTreeClassifier()\n",
    "\n",
    "scores = cross_val_score(clf_dtree, X, y, cv=k_1, scoring=scorer)\n",
    "scores_k_1.append(np.mean(scores))\n",
    "\n",
    "scores = cross_val_score(clf_dtree, X, y, cv=k_1, scoring=scorer)\n",
    "scores_k_2.append(np.mean(scores))\n",
    "\n",
    "scores = cross_val_score(clf_dtree, X, y, cv=k_1, scoring=scorer)\n",
    "scores_k_3.append(np.mean(scores))\n",
    "\n",
    "print(np.mean(scores))"
   ],
   "id": "25af3880dd53022f",
   "outputs": [],
   "execution_count": null
  },
  {
   "metadata": {},
   "cell_type": "markdown",
   "source": "## NB",
   "id": "f1576d3897a0b97e"
  },
  {
   "metadata": {},
   "cell_type": "code",
   "source": [
    "from sklearn.naive_bayes import GaussianNB\n",
    "clf_nb = GaussianNB()\n",
    "\n",
    "scores = cross_val_score(clf_nb, X, y, cv=k_1, scoring=scorer)\n",
    "scores_k_1.append(np.mean(scores))\n",
    "\n",
    "scores = cross_val_score(clf_nb, X, y, cv=k_2, scoring=scorer)\n",
    "scores_k_2.append(np.mean(scores))\n",
    "\n",
    "scores = cross_val_score(clf_nb, X, y, cv=k_3, scoring=scorer)\n",
    "scores_k_3.append(np.mean(scores))\n",
    "\n",
    "print(np.mean(scores))"
   ],
   "id": "4ad981c6f4a70dcb",
   "outputs": [],
   "execution_count": null
  },
  {
   "metadata": {},
   "cell_type": "markdown",
   "source": "## LR",
   "id": "1457876abacede41"
  },
  {
   "metadata": {},
   "cell_type": "code",
   "source": [
    "from sklearn.linear_model import LogisticRegression\n",
    "clf_lr = LogisticRegression(max_iter=1000)\n",
    "\n",
    "scores = cross_val_score(clf_lr, X, y, cv=k_1, scoring=scorer)\n",
    "scores_k_1.append(np.mean(scores))\n",
    "\n",
    "scores = cross_val_score(clf_lr, X, y, cv=k_2, scoring=scorer)\n",
    "scores_k_2.append(np.mean(scores))\n",
    "\n",
    "scores = cross_val_score(clf_lr, X, y, cv=k_3, scoring=scorer)\n",
    "scores_k_3.append(np.mean(scores))\n",
    "\n",
    "print(np.mean(scores))"
   ],
   "id": "f54eec6882667827",
   "outputs": [],
   "execution_count": null
  },
  {
   "metadata": {},
   "cell_type": "markdown",
   "source": "## SVM",
   "id": "feff091bee2603a9"
  },
  {
   "metadata": {},
   "cell_type": "code",
   "source": [
    "from sklearn.svm import SVC\n",
    "clf_svm = SVC(kernel='linear')\n",
    "scores = cross_val_score(clf_svm, X, y, cv=k_1, scoring=scorer)\n",
    "scores_k_1.append(np.mean(scores))\n",
    "scores = cross_val_score(clf_svm, X, y, cv=k_2, scoring=scorer)\n",
    "scores_k_2.append(np.mean(scores))\n",
    "scores = cross_val_score(clf_svm, X, y, cv=k_3, scoring=scorer)\n",
    "scores_k_3.append(np.mean(scores))\n",
    "\n",
    "print(np.mean(scores))"
   ],
   "id": "5819b1e141ec92c8",
   "outputs": [],
   "execution_count": null
  },
  {
   "metadata": {},
   "cell_type": "markdown",
   "source": "## Stacking model",
   "id": "de5454aa10ed664c"
  },
  {
   "metadata": {},
   "cell_type": "code",
   "source": [
    "base_learners = [\n",
    "    ('rf', clf_rf),\n",
    "    ('knn', clf_knn),\n",
    "    ('mlp', clf_mlp),\n",
    "    ('nb', clf_nb),\n",
    "    ('dt', clf_dtree),\n",
    "    ('lr', clf_lr),\n",
    "    ('svm', clf_svm)\n",
    "]\n",
    "\n",
    "meta_learners = LogisticRegression()"
   ],
   "id": "29f2a7b781045ab2",
   "outputs": [],
   "execution_count": null
  },
  {
   "metadata": {},
   "cell_type": "code",
   "source": [
    "from sklearn.ensemble import AdaBoostClassifier, StackingClassifier\n",
    "stacking_classifier = StackingClassifier(\n",
    "    estimators=base_learners,\n",
    "    final_estimator=meta_learners\n",
    ")\n",
    "\n",
    "stacking_classifier.fit(X_train, y_train)\n",
    "y_pred = stacking_classifier.predict(X_test)"
   ],
   "id": "4e7df0e4805594b9",
   "outputs": [],
   "execution_count": null
  },
  {
   "metadata": {},
   "cell_type": "code",
   "source": [
    "scores = cross_val_score(stacking_classifier, X, y, cv=k_1, scoring=scorer)\n",
    "scores_k_1.append(np.mean(scores))\n",
    "scores = cross_val_score(stacking_classifier, X, y, cv=k_2, scoring=scorer)\n",
    "scores_k_2.append(np.mean(scores))\n",
    "scores = cross_val_score(stacking_classifier, X, y, cv=k_3, scoring=scorer)\n",
    "scores_k_3.append(np.mean(scores))\n",
    "\n",
    "print(np.mean(scores))"
   ],
   "id": "728b92e420b5b850",
   "outputs": [],
   "execution_count": null
  },
  {
   "metadata": {},
   "cell_type": "code",
   "source": [
    "results_df = pd.DataFrame()\n",
    "results_df['learner'] = name_classifiers\n",
    "results_df['k_2'] = scores_k_1\n",
    "results_df['k_5'] = scores_k_2\n",
    "results_df['k_10'] = scores_k_3"
   ],
   "id": "372443a1e0a7aa71",
   "outputs": [],
   "execution_count": null
  },
  {
   "metadata": {},
   "cell_type": "code",
   "source": "results_df",
   "id": "f533129e93d3c9b6",
   "outputs": [],
   "execution_count": null
  },
  {
   "metadata": {},
   "cell_type": "code",
   "source": "len(results_df)",
   "id": "48448625871bd5e7",
   "outputs": [],
   "execution_count": null
  },
  {
   "metadata": {
    "ExecuteTime": {
     "end_time": "2024-07-10T23:52:28.293259Z",
     "start_time": "2024-07-10T23:52:28.158237Z"
    }
   },
   "cell_type": "code",
   "source": [
    "# Plotting the data\n",
    "plt.figure(figsize=(12, 6))\n",
    "bar_width = 0.2\n",
    "\n",
    "# Set position of bar on X axis\n",
    "r1 = range(len(results_df))\n",
    "r2 = [x + bar_width for x in r1]\n",
    "r3 = [x + bar_width for x in r2]\n",
    "\n",
    "# Make the plot\n",
    "plt.bar(r1, results_df['k_2'], color='b', width=bar_width, edgecolor='grey', label='k_2')\n",
    "plt.bar(r2, results_df['k_5'], color='g', width=bar_width, edgecolor='grey', label='k_5')\n",
    "plt.bar(r3, results_df['k_10'], color='r', width=bar_width, edgecolor='grey', label='k_10')\n",
    "\n",
    "# Add xticks on the middle of the group bars\n",
    "plt.xlabel('Model', fontweight='bold')\n",
    "plt.ylabel('Recall', fontweight='bold')\n",
    "plt.xticks([r + bar_width for r in range(len(results_df))], results_df['learner'])\n",
    "\n",
    "# Create legend & Show graphic\n",
    "plt.legend()\n",
    "plt.title('Comparison of Classification models for kfold =2, 5, and 10')\n",
    "plt.show()"
   ],
   "id": "66d792572f63fc15",
   "outputs": [
    {
     "data": {
      "text/plain": [
       "<Figure size 1200x600 with 1 Axes>"
      ],
      "image/png": "[encoded data removed]"
     },
     "metadata": {},
     "output_type": "display_data"
    }
   ],
   "execution_count": 68
  },
  {
   "metadata": {},
   "cell_type": "markdown",
   "source": "",
   "id": "78dc247400ac2ffb"
  }
 ],
 "metadata": {
  "kernelspec": {
   "display_name": "Python 3",
   "language": "python",
   "name": "python3"
  },
  "language_info": {
   "codemirror_mode": {
    "name": "ipython",
    "version": 2
   },
   "file_extension": ".py",
   "mimetype": "text/x-python",
   "name": "python",
   "nbconvert_exporter": "python",
   "pygments_lexer": "ipython2",
   "version": "2.7.6"
  }
 },
 "nbformat": 4,
 "nbformat_minor": 5
}
