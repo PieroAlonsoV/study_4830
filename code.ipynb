{
 "cells": [
  {
   "metadata": {},
   "cell_type": "markdown",
   "source": "# Importing dataset",
   "id": "79be90b3750e0d68"
  },
  {
   "cell_type": "code",
   "id": "initial_id",
   "metadata": {
    "collapsed": true,
    "ExecuteTime": {
     "end_time": "2024-07-11T21:37:48.581888Z",
     "start_time": "2024-07-11T21:37:48.577963Z"
    }
   },
   "source": [
    "import numpy as np\n",
    "import pandas as pd\n",
    "import matplotlib.pyplot as plt\n",
    "import seaborn as sns"
   ],
   "outputs": [],
   "execution_count": 1
  },
  {
   "metadata": {
    "ExecuteTime": {
     "end_time": "2024-07-11T21:37:48.987597Z",
     "start_time": "2024-07-11T21:37:48.672904Z"
    }
   },
   "cell_type": "code",
   "source": [
    "import importlib\n",
    "import utils\n",
    "importlib.reload(utils)"
   ],
   "id": "11000f8548fbc84a",
   "outputs": [
    {
     "data": {
      "text/plain": [
       "<module 'utils' from 'D:\\\\3term\\\\DANA 4830\\\\study_4830\\\\utils.py'>"
      ]
     },
     "execution_count": 2,
     "metadata": {},
     "output_type": "execute_result"
    }
   ],
   "execution_count": 2
  },
  {
   "metadata": {
    "ExecuteTime": {
     "end_time": "2024-07-11T21:37:49.016144Z",
     "start_time": "2024-07-11T21:37:48.988601Z"
    }
   },
   "cell_type": "code",
   "source": [
    "df = pd.read_csv('data.csv').drop(columns = 'ID', axis=1)\n",
    "df = df.dropna(axis=0, how='any')\n",
    "X = df.drop(columns = 'class', axis = 1 )\n",
    "y = df['class']"
   ],
   "id": "8da33b9692b5141e",
   "outputs": [],
   "execution_count": 3
  },
  {
   "metadata": {},
   "cell_type": "markdown",
   "source": "# Explanatory variable",
   "id": "9d196fb67d0edf2e"
  },
  {
   "metadata": {
    "ExecuteTime": {
     "end_time": "2024-07-11T21:37:49.021407Z",
     "start_time": "2024-07-11T21:37:49.017148Z"
    }
   },
   "cell_type": "code",
   "source": "int_columns, float_columns, object_columns, numerical_columns = utils.columns_df(X)",
   "id": "ebbbf5e9a525b3a6",
   "outputs": [
    {
     "name": "stdout",
     "output_type": "stream",
     "text": [
      "Shape: (174, 450)\n",
      "Numerical features:  450\n",
      "Categorical features:  0\n"
     ]
    }
   ],
   "execution_count": 4
  },
  {
   "metadata": {},
   "cell_type": "markdown",
   "source": "# Target variable",
   "id": "6f0177553279bc0a"
  },
  {
   "metadata": {
    "ExecuteTime": {
     "end_time": "2024-07-11T21:37:49.026812Z",
     "start_time": "2024-07-11T21:37:49.022412Z"
    }
   },
   "cell_type": "code",
   "source": "y.value_counts()",
   "id": "2c060387ffa880f3",
   "outputs": [
    {
     "data": {
      "text/plain": [
       "class\n",
       "P    89\n",
       "H    85\n",
       "Name: count, dtype: int64"
      ]
     },
     "execution_count": 5,
     "metadata": {},
     "output_type": "execute_result"
    }
   ],
   "execution_count": 5
  },
  {
   "metadata": {
    "ExecuteTime": {
     "end_time": "2024-07-11T21:37:49.030785Z",
     "start_time": "2024-07-11T21:37:49.026812Z"
    }
   },
   "cell_type": "code",
   "source": "y = y.replace({'P': 1, 'H': 0})",
   "id": "e641fabf4ee607f8",
   "outputs": [],
   "execution_count": 6
  },
  {
   "metadata": {},
   "cell_type": "markdown",
   "source": "Let's group each task as one sub X dataframe",
   "id": "5a2f09906283eac6"
  },
  {
   "metadata": {
    "ExecuteTime": {
     "end_time": "2024-07-11T21:37:49.039837Z",
     "start_time": "2024-07-11T21:37:49.032790Z"
    }
   },
   "cell_type": "code",
   "source": [
    "dataframes = utils.split_df(X, n = 25, n_col=18)\n",
    "keys = list(dataframes.keys())"
   ],
   "id": "1ce4ab9f43392de",
   "outputs": [],
   "execution_count": 7
  },
  {
   "metadata": {},
   "cell_type": "markdown",
   "source": "# PCA",
   "id": "24b81f7f3a579b5a"
  },
  {
   "metadata": {},
   "cell_type": "markdown",
   "source": "We will collect Principal components for each task following the kaiser criteria",
   "id": "58f3da93364dddf6"
  },
  {
   "metadata": {
    "ExecuteTime": {
     "end_time": "2024-07-11T21:37:49.096919Z",
     "start_time": "2024-07-11T21:37:49.040842Z"
    }
   },
   "cell_type": "code",
   "source": [
    "from sklearn.preprocessing import StandardScaler\n",
    "from sklearn.decomposition import PCA\n",
    "df_pca = {}\n",
    "X_pca = pd.DataFrame()\n",
    "for k in keys:\n",
    "    scaler = StandardScaler()\n",
    "    df_k = dataframes[k]\n",
    "    df_k_scaled = scaler.fit_transform(df_k)\n",
    "    pca = PCA(n_components=17)\n",
    "    df_pca_k = pca.fit_transform(df_k_scaled)\n",
    "    name_columns = ['task_'+str(k[2:]) + '_PC_'+str(x) for x in range(1,18)]\n",
    "    df_pca_k = pd.DataFrame(df_pca_k, columns=name_columns)\n",
    "    eigenvalues = pca.explained_variance_ # eigen values\n",
    "    kaiser_criteria = eigenvalues > 1 # kaiser\n",
    "    num_components = np.sum(kaiser_criteria)\n",
    "    \n",
    "    df_pca[k] = df_pca_k.iloc[:, :num_components]    \n",
    "    X_pca = pd.concat([X_pca, df_pca[k]], axis = 1)"
   ],
   "id": "a64ddfdd1dee978c",
   "outputs": [],
   "execution_count": 8
  },
  {
   "metadata": {
    "ExecuteTime": {
     "end_time": "2024-07-11T21:37:49.111797Z",
     "start_time": "2024-07-11T21:37:49.097924Z"
    }
   },
   "cell_type": "code",
   "source": "X_pca.head()",
   "id": "5a9649f1ae00b150",
   "outputs": [
    {
     "data": {
      "text/plain": [
       "   task_1_PC_1  task_1_PC_2  task_1_PC_3  task_1_PC_4  task_1_PC_5  \\\n",
       "0    -2.822564     1.066347    -0.502270     1.512005    -1.505329   \n",
       "1    -4.415840     2.910133     0.296269     0.369255     2.217803   \n",
       "2    -0.617912    -0.352200     0.135462     0.493668    -0.080069   \n",
       "3     0.510604     0.064401     0.235215    -1.028604    -0.171790   \n",
       "4    -0.811080    -1.728787     0.622613     0.366749     0.258573   \n",
       "\n",
       "   task_2_PC_1  task_2_PC_2  task_2_PC_3  task_2_PC_4  task_2_PC_5  ...  \\\n",
       "0     2.207812     0.305959     1.303271    -0.297084     0.144150  ...   \n",
       "1     3.463420     1.194120     0.863193     0.508914    -0.199806  ...   \n",
       "2    -1.679897    -0.452618     0.153288     0.026290    -0.549906  ...   \n",
       "3     2.356695    -1.103693    -0.164551    -0.886425    -0.316457  ...   \n",
       "4    -0.382332    -0.717785     0.987443    -0.261193    -0.623538  ...   \n",
       "\n",
       "   task_23_PC_4  task_23_PC_5  task_24_PC_1  task_24_PC_2  task_24_PC_3  \\\n",
       "0      0.780707     -0.541239      0.231137     -1.542468      1.965651   \n",
       "1     -0.286341     -0.845487     -3.745736     -0.750345      0.286422   \n",
       "2      0.314404     -0.006709     -3.265956      1.038517      1.447714   \n",
       "3     -0.627569     -0.061997     -3.474620      1.402322      2.433399   \n",
       "4      0.072421     -0.188409     -3.801311      2.065559      2.776641   \n",
       "\n",
       "   task_24_PC_4  task_25_PC_1  task_25_PC_2  task_25_PC_3  task_25_PC_4  \n",
       "0      1.196079      1.204851     -1.554284      1.636588     -1.261708  \n",
       "1      0.586965     -6.680302      0.282420      0.529999     -1.592043  \n",
       "2      0.814838     -0.806069      0.117356     -1.386081      1.349985  \n",
       "3      0.414838     -2.767879     -0.712425      0.514504     -0.500998  \n",
       "4      0.654945     -1.701364     -2.011850     -0.022621      0.609275  \n",
       "\n",
       "[5 rows x 115 columns]"
      ],
      "text/html": [
       "<div>\n",
       "<style scoped>\n",
       "    .dataframe tbody tr th:only-of-type {\n",
       "        vertical-align: middle;\n",
       "    }\n",
       "\n",
       "    .dataframe tbody tr th {\n",
       "        vertical-align: top;\n",
       "    }\n",
       "\n",
       "    .dataframe thead th {\n",
       "        text-align: right;\n",
       "    }\n",
       "</style>\n",
       "<table border=\"1\" class=\"dataframe\">\n",
       "  <thead>\n",
       "    <tr style=\"text-align: right;\">\n",
       "      <th></th>\n",
       "      <th>task_1_PC_1</th>\n",
       "      <th>task_1_PC_2</th>\n",
       "      <th>task_1_PC_3</th>\n",
       "      <th>task_1_PC_4</th>\n",
       "      <th>task_1_PC_5</th>\n",
       "      <th>task_2_PC_1</th>\n",
       "      <th>task_2_PC_2</th>\n",
       "      <th>task_2_PC_3</th>\n",
       "      <th>task_2_PC_4</th>\n",
       "      <th>task_2_PC_5</th>\n",
       "      <th>...</th>\n",
       "      <th>task_23_PC_4</th>\n",
       "      <th>task_23_PC_5</th>\n",
       "      <th>task_24_PC_1</th>\n",
       "      <th>task_24_PC_2</th>\n",
       "      <th>task_24_PC_3</th>\n",
       "      <th>task_24_PC_4</th>\n",
       "      <th>task_25_PC_1</th>\n",
       "      <th>task_25_PC_2</th>\n",
       "      <th>task_25_PC_3</th>\n",
       "      <th>task_25_PC_4</th>\n",
       "    </tr>\n",
       "  </thead>\n",
       "  <tbody>\n",
       "    <tr>\n",
       "      <th>0</th>\n",
       "      <td>-2.822564</td>\n",
       "      <td>1.066347</td>\n",
       "      <td>-0.502270</td>\n",
       "      <td>1.512005</td>\n",
       "      <td>-1.505329</td>\n",
       "      <td>2.207812</td>\n",
       "      <td>0.305959</td>\n",
       "      <td>1.303271</td>\n",
       "      <td>-0.297084</td>\n",
       "      <td>0.144150</td>\n",
       "      <td>...</td>\n",
       "      <td>0.780707</td>\n",
       "      <td>-0.541239</td>\n",
       "      <td>0.231137</td>\n",
       "      <td>-1.542468</td>\n",
       "      <td>1.965651</td>\n",
       "      <td>1.196079</td>\n",
       "      <td>1.204851</td>\n",
       "      <td>-1.554284</td>\n",
       "      <td>1.636588</td>\n",
       "      <td>-1.261708</td>\n",
       "    </tr>\n",
       "    <tr>\n",
       "      <th>1</th>\n",
       "      <td>-4.415840</td>\n",
       "      <td>2.910133</td>\n",
       "      <td>0.296269</td>\n",
       "      <td>0.369255</td>\n",
       "      <td>2.217803</td>\n",
       "      <td>3.463420</td>\n",
       "      <td>1.194120</td>\n",
       "      <td>0.863193</td>\n",
       "      <td>0.508914</td>\n",
       "      <td>-0.199806</td>\n",
       "      <td>...</td>\n",
       "      <td>-0.286341</td>\n",
       "      <td>-0.845487</td>\n",
       "      <td>-3.745736</td>\n",
       "      <td>-0.750345</td>\n",
       "      <td>0.286422</td>\n",
       "      <td>0.586965</td>\n",
       "      <td>-6.680302</td>\n",
       "      <td>0.282420</td>\n",
       "      <td>0.529999</td>\n",
       "      <td>-1.592043</td>\n",
       "    </tr>\n",
       "    <tr>\n",
       "      <th>2</th>\n",
       "      <td>-0.617912</td>\n",
       "      <td>-0.352200</td>\n",
       "      <td>0.135462</td>\n",
       "      <td>0.493668</td>\n",
       "      <td>-0.080069</td>\n",
       "      <td>-1.679897</td>\n",
       "      <td>-0.452618</td>\n",
       "      <td>0.153288</td>\n",
       "      <td>0.026290</td>\n",
       "      <td>-0.549906</td>\n",
       "      <td>...</td>\n",
       "      <td>0.314404</td>\n",
       "      <td>-0.006709</td>\n",
       "      <td>-3.265956</td>\n",
       "      <td>1.038517</td>\n",
       "      <td>1.447714</td>\n",
       "      <td>0.814838</td>\n",
       "      <td>-0.806069</td>\n",
       "      <td>0.117356</td>\n",
       "      <td>-1.386081</td>\n",
       "      <td>1.349985</td>\n",
       "    </tr>\n",
       "    <tr>\n",
       "      <th>3</th>\n",
       "      <td>0.510604</td>\n",
       "      <td>0.064401</td>\n",
       "      <td>0.235215</td>\n",
       "      <td>-1.028604</td>\n",
       "      <td>-0.171790</td>\n",
       "      <td>2.356695</td>\n",
       "      <td>-1.103693</td>\n",
       "      <td>-0.164551</td>\n",
       "      <td>-0.886425</td>\n",
       "      <td>-0.316457</td>\n",
       "      <td>...</td>\n",
       "      <td>-0.627569</td>\n",
       "      <td>-0.061997</td>\n",
       "      <td>-3.474620</td>\n",
       "      <td>1.402322</td>\n",
       "      <td>2.433399</td>\n",
       "      <td>0.414838</td>\n",
       "      <td>-2.767879</td>\n",
       "      <td>-0.712425</td>\n",
       "      <td>0.514504</td>\n",
       "      <td>-0.500998</td>\n",
       "    </tr>\n",
       "    <tr>\n",
       "      <th>4</th>\n",
       "      <td>-0.811080</td>\n",
       "      <td>-1.728787</td>\n",
       "      <td>0.622613</td>\n",
       "      <td>0.366749</td>\n",
       "      <td>0.258573</td>\n",
       "      <td>-0.382332</td>\n",
       "      <td>-0.717785</td>\n",
       "      <td>0.987443</td>\n",
       "      <td>-0.261193</td>\n",
       "      <td>-0.623538</td>\n",
       "      <td>...</td>\n",
       "      <td>0.072421</td>\n",
       "      <td>-0.188409</td>\n",
       "      <td>-3.801311</td>\n",
       "      <td>2.065559</td>\n",
       "      <td>2.776641</td>\n",
       "      <td>0.654945</td>\n",
       "      <td>-1.701364</td>\n",
       "      <td>-2.011850</td>\n",
       "      <td>-0.022621</td>\n",
       "      <td>0.609275</td>\n",
       "    </tr>\n",
       "  </tbody>\n",
       "</table>\n",
       "<p>5 rows × 115 columns</p>\n",
       "</div>"
      ]
     },
     "execution_count": 9,
     "metadata": {},
     "output_type": "execute_result"
    }
   ],
   "execution_count": 9
  },
  {
   "metadata": {},
   "cell_type": "markdown",
   "source": "# Train and test dataset split",
   "id": "b01b7b9d113ae538"
  },
  {
   "metadata": {
    "ExecuteTime": {
     "end_time": "2024-07-11T21:37:49.117239Z",
     "start_time": "2024-07-11T21:37:49.112801Z"
    }
   },
   "cell_type": "code",
   "source": [
    "from sklearn.model_selection import train_test_split\n",
    "X_train, X_test, y_train, y_test = train_test_split(X_pca, y, test_size=0.2, random_state=123)\n",
    "print(X_train.shape, y_train.shape)\n",
    "print(X_test.shape, y_test.shape)"
   ],
   "id": "2cb58381df331707",
   "outputs": [
    {
     "name": "stdout",
     "output_type": "stream",
     "text": [
      "(139, 115) (139,)\n",
      "(35, 115) (35,)\n"
     ]
    }
   ],
   "execution_count": 10
  },
  {
   "metadata": {},
   "cell_type": "markdown",
   "source": "# Metric: recall for class 1 (no healthy)",
   "id": "79bc29f0a79c3541"
  },
  {
   "metadata": {
    "ExecuteTime": {
     "end_time": "2024-07-11T21:37:49.121771Z",
     "start_time": "2024-07-11T21:37:49.119244Z"
    }
   },
   "cell_type": "code",
   "source": [
    "from sklearn.metrics import make_scorer, recall_score\n",
    "from sklearn.model_selection import cross_val_score\n",
    "scorer = make_scorer(recall_score, pos_label=1)"
   ],
   "id": "4152047c708639f9",
   "outputs": [],
   "execution_count": 11
  },
  {
   "metadata": {
    "ExecuteTime": {
     "end_time": "2024-07-11T21:37:49.125732Z",
     "start_time": "2024-07-11T21:37:49.122778Z"
    }
   },
   "cell_type": "code",
   "source": [
    "# number of k folds\n",
    "k_1 = 2\n",
    "scores_k_1 = []\n",
    "k_2 = 5\n",
    "scores_k_2 = []\n",
    "k_3 = 10\n",
    "scores_k_3= []\n",
    "\n",
    "name_classifiers=['RF', 'KNN', 'MLP', 'DT', 'NB', 'LR','SVM', 'Stacked']"
   ],
   "id": "d6ae8b1c95a95c65",
   "outputs": [],
   "execution_count": 12
  },
  {
   "metadata": {},
   "cell_type": "markdown",
   "source": "## Random Forest",
   "id": "a9ed9651b89147b7"
  },
  {
   "metadata": {
    "ExecuteTime": {
     "end_time": "2024-07-11T21:37:53.141307Z",
     "start_time": "2024-07-11T21:37:49.126736Z"
    }
   },
   "cell_type": "code",
   "source": [
    "from sklearn.ensemble import RandomForestClassifier\n",
    "clf_rf = RandomForestClassifier(n_estimators=100, random_state=123)\n",
    "\n",
    "scores = cross_val_score(clf_rf, X, y, cv=k_1, scoring=scorer)\n",
    "scores_k_1.append(np.mean(scores))\n",
    "\n",
    "scores = cross_val_score(clf_rf, X, y, cv=k_2, scoring=scorer)\n",
    "scores_k_2.append(np.mean(scores))\n",
    "\n",
    "scores = cross_val_score(clf_rf, X, y, cv=k_3, scoring=scorer)\n",
    "scores_k_3.append(np.mean(scores))\n",
    "\n",
    "print(np.mean(scores))"
   ],
   "id": "53a4ce34a9b57644",
   "outputs": [
    {
     "name": "stdout",
     "output_type": "stream",
     "text": [
      "0.8277777777777778\n"
     ]
    }
   ],
   "execution_count": 13
  },
  {
   "metadata": {},
   "cell_type": "markdown",
   "source": "## KNN",
   "id": "822b5d854fdc34a7"
  },
  {
   "metadata": {
    "ExecuteTime": {
     "end_time": "2024-07-11T21:37:53.477243Z",
     "start_time": "2024-07-11T21:37:53.141307Z"
    }
   },
   "cell_type": "code",
   "source": [
    "from sklearn.neighbors import KNeighborsClassifier\n",
    "clf_knn = KNeighborsClassifier(n_neighbors=3)\n",
    "\n",
    "scores = cross_val_score(clf_knn, X, y, cv=k_1, scoring=scorer)\n",
    "scores_k_1.append(np.mean(scores))\n",
    "\n",
    "scores = cross_val_score(clf_knn, X, y, cv=k_2, scoring=scorer)\n",
    "scores_k_2.append(np.mean(scores))\n",
    "\n",
    "scores = cross_val_score(clf_knn, X, y, cv=k_3, scoring=scorer)\n",
    "scores_k_3.append(np.mean(scores))\n",
    "\n",
    "print(np.mean(scores))"
   ],
   "id": "a06e057db622460f",
   "outputs": [
    {
     "name": "stdout",
     "output_type": "stream",
     "text": [
      "0.5347222222222221\n"
     ]
    }
   ],
   "execution_count": 14
  },
  {
   "metadata": {},
   "cell_type": "markdown",
   "source": "## MLP",
   "id": "19536559b5b28d29"
  },
  {
   "metadata": {
    "ExecuteTime": {
     "end_time": "2024-07-11T21:37:54.780988Z",
     "start_time": "2024-07-11T21:37:53.477243Z"
    }
   },
   "cell_type": "code",
   "source": [
    "from sklearn.neural_network import MLPClassifier\n",
    "clf_mlp = MLPClassifier(hidden_layer_sizes=(100,), max_iter=500)\n",
    "scores = cross_val_score(clf_mlp, X, y, cv=k_1, scoring=scorer)\n",
    "\n",
    "scores = cross_val_score(clf_mlp, X, y, cv=k_1, scoring=scorer)\n",
    "scores_k_1.append(np.mean(scores))\n",
    "\n",
    "scores = cross_val_score(clf_mlp, X, y, cv=k_2, scoring=scorer)\n",
    "scores_k_2.append(np.mean(scores))\n",
    "\n",
    "scores = cross_val_score(clf_mlp, X, y, cv=k_3, scoring=scorer)\n",
    "scores_k_3.append(np.mean(scores))\n",
    "\n",
    "print(np.mean(scores))"
   ],
   "id": "64cf63fb671fe4",
   "outputs": [
    {
     "name": "stdout",
     "output_type": "stream",
     "text": [
      "0.7999999999999999\n"
     ]
    }
   ],
   "execution_count": 15
  },
  {
   "metadata": {},
   "cell_type": "markdown",
   "source": "## Decision tree",
   "id": "f8cbc93eee87d1a1"
  },
  {
   "metadata": {
    "ExecuteTime": {
     "end_time": "2024-07-11T21:37:54.909567Z",
     "start_time": "2024-07-11T21:37:54.782027Z"
    }
   },
   "cell_type": "code",
   "source": [
    "from sklearn.tree import DecisionTreeClassifier\n",
    "clf_dtree = DecisionTreeClassifier()\n",
    "\n",
    "scores = cross_val_score(clf_dtree, X, y, cv=k_1, scoring=scorer)\n",
    "scores_k_1.append(np.mean(scores))\n",
    "\n",
    "scores = cross_val_score(clf_dtree, X, y, cv=k_1, scoring=scorer)\n",
    "scores_k_2.append(np.mean(scores))\n",
    "\n",
    "scores = cross_val_score(clf_dtree, X, y, cv=k_1, scoring=scorer)\n",
    "scores_k_3.append(np.mean(scores))\n",
    "\n",
    "print(np.mean(scores))"
   ],
   "id": "25af3880dd53022f",
   "outputs": [
    {
     "name": "stdout",
     "output_type": "stream",
     "text": [
      "0.7755050505050505\n"
     ]
    }
   ],
   "execution_count": 16
  },
  {
   "metadata": {},
   "cell_type": "markdown",
   "source": "## NB",
   "id": "f1576d3897a0b97e"
  },
  {
   "metadata": {
    "ExecuteTime": {
     "end_time": "2024-07-11T21:37:55.016151Z",
     "start_time": "2024-07-11T21:37:54.909567Z"
    }
   },
   "cell_type": "code",
   "source": [
    "from sklearn.naive_bayes import GaussianNB\n",
    "clf_nb = GaussianNB()\n",
    "\n",
    "scores = cross_val_score(clf_nb, X, y, cv=k_1, scoring=scorer)\n",
    "scores_k_1.append(np.mean(scores))\n",
    "\n",
    "scores = cross_val_score(clf_nb, X, y, cv=k_2, scoring=scorer)\n",
    "scores_k_2.append(np.mean(scores))\n",
    "\n",
    "scores = cross_val_score(clf_nb, X, y, cv=k_3, scoring=scorer)\n",
    "scores_k_3.append(np.mean(scores))\n",
    "\n",
    "print(np.mean(scores))"
   ],
   "id": "4ad981c6f4a70dcb",
   "outputs": [
    {
     "name": "stdout",
     "output_type": "stream",
     "text": [
      "0.8875\n"
     ]
    }
   ],
   "execution_count": 17
  },
  {
   "metadata": {},
   "cell_type": "markdown",
   "source": "## LR",
   "id": "1457876abacede41"
  },
  {
   "metadata": {
    "ExecuteTime": {
     "end_time": "2024-07-11T21:37:55.848395Z",
     "start_time": "2024-07-11T21:37:55.017157Z"
    }
   },
   "cell_type": "code",
   "source": [
    "from sklearn.linear_model import LogisticRegression\n",
    "clf_lr = LogisticRegression(max_iter=1000)\n",
    "\n",
    "scores = cross_val_score(clf_lr, X, y, cv=k_1, scoring=scorer)\n",
    "scores_k_1.append(np.mean(scores))\n",
    "\n",
    "scores = cross_val_score(clf_lr, X, y, cv=k_2, scoring=scorer)\n",
    "scores_k_2.append(np.mean(scores))\n",
    "\n",
    "scores = cross_val_score(clf_lr, X, y, cv=k_3, scoring=scorer)\n",
    "scores_k_3.append(np.mean(scores))\n",
    "\n",
    "print(np.mean(scores))"
   ],
   "id": "f54eec6882667827",
   "outputs": [
    {
     "name": "stdout",
     "output_type": "stream",
     "text": [
      "0.8208333333333334\n"
     ]
    }
   ],
   "execution_count": 18
  },
  {
   "metadata": {},
   "cell_type": "markdown",
   "source": "## SVM",
   "id": "feff091bee2603a9"
  },
  {
   "metadata": {
    "ExecuteTime": {
     "end_time": "2024-07-11T21:37:56.020475Z",
     "start_time": "2024-07-11T21:37:55.849400Z"
    }
   },
   "cell_type": "code",
   "source": [
    "from sklearn.svm import SVC\n",
    "clf_svm = SVC(kernel='linear')\n",
    "scores = cross_val_score(clf_svm, X, y, cv=k_1, scoring=scorer)\n",
    "scores_k_1.append(np.mean(scores))\n",
    "scores = cross_val_score(clf_svm, X, y, cv=k_2, scoring=scorer)\n",
    "scores_k_2.append(np.mean(scores))\n",
    "scores = cross_val_score(clf_svm, X, y, cv=k_3, scoring=scorer)\n",
    "scores_k_3.append(np.mean(scores))\n",
    "\n",
    "print(np.mean(scores))"
   ],
   "id": "5819b1e141ec92c8",
   "outputs": [
    {
     "name": "stdout",
     "output_type": "stream",
     "text": [
      "0.798611111111111\n"
     ]
    }
   ],
   "execution_count": 19
  },
  {
   "metadata": {},
   "cell_type": "markdown",
   "source": "## Adaboost (Stacking)",
   "id": "e5cb30e4bcba85e4"
  },
  {
   "metadata": {
    "ExecuteTime": {
     "end_time": "2024-07-11T21:37:56.023954Z",
     "start_time": "2024-07-11T21:37:56.020475Z"
    }
   },
   "cell_type": "code",
   "source": [
    "base_learners = [\n",
    "    ('rf', clf_rf),\n",
    "    ('knn', clf_knn),\n",
    "    ('mlp', clf_mlp),\n",
    "    ('nb', clf_nb),\n",
    "    ('dt', clf_dtree),\n",
    "    ('lr', clf_lr),\n",
    "    ('svm', clf_svm)\n",
    "]\n",
    "\n",
    "meta_learners = LogisticRegression()"
   ],
   "id": "29f2a7b781045ab2",
   "outputs": [],
   "execution_count": 20
  },
  {
   "metadata": {},
   "cell_type": "markdown",
   "source": "### Training each base learners",
   "id": "f26affb8d8fae31e"
  },
  {
   "metadata": {
    "ExecuteTime": {
     "end_time": "2024-07-11T21:37:56.293359Z",
     "start_time": "2024-07-11T21:37:56.024959Z"
    }
   },
   "cell_type": "code",
   "source": [
    "stacked_train_predictions = {}\n",
    "for t in base_learners:\n",
    "    t[1].fit(X_train, y_train)\n",
    "    stacked_train_predictions[t[0]]= t[1].predict(X_train)\n",
    "\n",
    "predictions = tuple([x for x in stacked_train_predictions.values()])\n",
    "stacked_predictions_np =  np.column_stack(predictions)"
   ],
   "id": "b093d77b5608d840",
   "outputs": [],
   "execution_count": 21
  },
  {
   "metadata": {
    "ExecuteTime": {
     "end_time": "2024-07-11T21:37:56.301078Z",
     "start_time": "2024-07-11T21:37:56.294365Z"
    }
   },
   "cell_type": "code",
   "source": [
    "from sklearn.ensemble import AdaBoostClassifier\n",
    "adaboost_clf = AdaBoostClassifier(estimator=None, n_estimators=50, random_state=123)\n",
    "adaboost_clf.fit(stacked_predictions_np, y_train)"
   ],
   "id": "4652119e72fb6e7d",
   "outputs": [
    {
     "data": {
      "text/plain": [
       "AdaBoostClassifier(random_state=123)"
      ],
      "text/html": [
       "<style>#sk-container-id-1 {color: black;}#sk-container-id-1 pre{padding: 0;}#sk-container-id-1 div.sk-toggleable {background-color: white;}#sk-container-id-1 label.sk-toggleable__label {cursor: pointer;display: block;width: 100%;margin-bottom: 0;padding: 0.3em;box-sizing: border-box;text-align: center;}#sk-container-id-1 label.sk-toggleable__label-arrow:before {content: \"▸\";float: left;margin-right: 0.25em;color: #696969;}#sk-container-id-1 label.sk-toggleable__label-arrow:hover:before {color: black;}#sk-container-id-1 div.sk-estimator:hover label.sk-toggleable__label-arrow:before {color: black;}#sk-container-id-1 div.sk-toggleable__content {max-height: 0;max-width: 0;overflow: hidden;text-align: left;background-color: #f0f8ff;}#sk-container-id-1 div.sk-toggleable__content pre {margin: 0.2em;color: black;border-radius: 0.25em;background-color: #f0f8ff;}#sk-container-id-1 input.sk-toggleable__control:checked~div.sk-toggleable__content {max-height: 200px;max-width: 100%;overflow: auto;}#sk-container-id-1 input.sk-toggleable__control:checked~label.sk-toggleable__label-arrow:before {content: \"▾\";}#sk-container-id-1 div.sk-estimator input.sk-toggleable__control:checked~label.sk-toggleable__label {background-color: #d4ebff;}#sk-container-id-1 div.sk-label input.sk-toggleable__control:checked~label.sk-toggleable__label {background-color: #d4ebff;}#sk-container-id-1 input.sk-hidden--visually {border: 0;clip: rect(1px 1px 1px 1px);clip: rect(1px, 1px, 1px, 1px);height: 1px;margin: -1px;overflow: hidden;padding: 0;position: absolute;width: 1px;}#sk-container-id-1 div.sk-estimator {font-family: monospace;background-color: #f0f8ff;border: 1px dotted black;border-radius: 0.25em;box-sizing: border-box;margin-bottom: 0.5em;}#sk-container-id-1 div.sk-estimator:hover {background-color: #d4ebff;}#sk-container-id-1 div.sk-parallel-item::after {content: \"\";width: 100%;border-bottom: 1px solid gray;flex-grow: 1;}#sk-container-id-1 div.sk-label:hover label.sk-toggleable__label {background-color: #d4ebff;}#sk-container-id-1 div.sk-serial::before {content: \"\";position: absolute;border-left: 1px solid gray;box-sizing: border-box;top: 0;bottom: 0;left: 50%;z-index: 0;}#sk-container-id-1 div.sk-serial {display: flex;flex-direction: column;align-items: center;background-color: white;padding-right: 0.2em;padding-left: 0.2em;position: relative;}#sk-container-id-1 div.sk-item {position: relative;z-index: 1;}#sk-container-id-1 div.sk-parallel {display: flex;align-items: stretch;justify-content: center;background-color: white;position: relative;}#sk-container-id-1 div.sk-item::before, #sk-container-id-1 div.sk-parallel-item::before {content: \"\";position: absolute;border-left: 1px solid gray;box-sizing: border-box;top: 0;bottom: 0;left: 50%;z-index: -1;}#sk-container-id-1 div.sk-parallel-item {display: flex;flex-direction: column;z-index: 1;position: relative;background-color: white;}#sk-container-id-1 div.sk-parallel-item:first-child::after {align-self: flex-end;width: 50%;}#sk-container-id-1 div.sk-parallel-item:last-child::after {align-self: flex-start;width: 50%;}#sk-container-id-1 div.sk-parallel-item:only-child::after {width: 0;}#sk-container-id-1 div.sk-dashed-wrapped {border: 1px dashed gray;margin: 0 0.4em 0.5em 0.4em;box-sizing: border-box;padding-bottom: 0.4em;background-color: white;}#sk-container-id-1 div.sk-label label {font-family: monospace;font-weight: bold;display: inline-block;line-height: 1.2em;}#sk-container-id-1 div.sk-label-container {text-align: center;}#sk-container-id-1 div.sk-container {/* jupyter's `normalize.less` sets `[hidden] { display: none; }` but bootstrap.min.css set `[hidden] { display: none !important; }` so we also need the `!important` here to be able to override the default hidden behavior on the sphinx rendered scikit-learn.org. See: https://github.com/scikit-learn/scikit-learn/issues/21755 */display: inline-block !important;position: relative;}#sk-container-id-1 div.sk-text-repr-fallback {display: none;}</style><div id=\"sk-container-id-1\" class=\"sk-top-container\"><div class=\"sk-text-repr-fallback\"><pre>AdaBoostClassifier(random_state=123)</pre><b>In a Jupyter environment, please rerun this cell to show the HTML representation or trust the notebook. <br />On GitHub, the HTML representation is unable to render, please try loading this page with nbviewer.org.</b></div><div class=\"sk-container\" hidden><div class=\"sk-item\"><div class=\"sk-estimator sk-toggleable\"><input class=\"sk-toggleable__control sk-hidden--visually\" id=\"sk-estimator-id-1\" type=\"checkbox\" checked><label for=\"sk-estimator-id-1\" class=\"sk-toggleable__label sk-toggleable__label-arrow\">AdaBoostClassifier</label><div class=\"sk-toggleable__content\"><pre>AdaBoostClassifier(random_state=123)</pre></div></div></div></div></div>"
      ]
     },
     "execution_count": 22,
     "metadata": {},
     "output_type": "execute_result"
    }
   ],
   "execution_count": 22
  },
  {
   "metadata": {},
   "cell_type": "markdown",
   "source": "### Prediction using base learners",
   "id": "e848038d167f844b"
  },
  {
   "metadata": {
    "ExecuteTime": {
     "end_time": "2024-07-11T21:37:56.566590Z",
     "start_time": "2024-07-11T21:37:56.301078Z"
    }
   },
   "cell_type": "code",
   "source": [
    "stacked_test_predictions = {}\n",
    "for t in base_learners:\n",
    "    t[1].fit(X_train, y_train)\n",
    "    stacked_test_predictions[t[0]]= t[1].predict(X_test)\n",
    "\n",
    "predictions = tuple([x for x in stacked_test_predictions.values()])\n",
    "stacked_predictions_np =  np.column_stack(predictions)"
   ],
   "id": "47b879665badf34a",
   "outputs": [],
   "execution_count": 23
  },
  {
   "metadata": {
    "ExecuteTime": {
     "end_time": "2024-07-11T21:37:56.570211Z",
     "start_time": "2024-07-11T21:37:56.567604Z"
    }
   },
   "cell_type": "code",
   "source": "y_pred = adaboost_clf.predict(stacked_predictions_np)",
   "id": "548009809a57c00d",
   "outputs": [],
   "execution_count": 24
  },
  {
   "metadata": {
    "ExecuteTime": {
     "end_time": "2024-07-11T21:38:08.540133Z",
     "start_time": "2024-07-11T21:37:56.570211Z"
    }
   },
   "cell_type": "code",
   "source": [
    "scores = cross_val_score(adaboost_clf, X, y, cv=k_1, scoring=scorer)\n",
    "scores_k_1.append(np.mean(scores))\n",
    "scores = cross_val_score(adaboost_clf, X, y, cv=k_2, scoring=scorer)\n",
    "scores_k_2.append(np.mean(scores))\n",
    "scores = cross_val_score(adaboost_clf, X, y, cv=k_3, scoring=scorer)\n",
    "scores_k_3.append(np.mean(scores))\n",
    "\n",
    "print(np.mean(scores))"
   ],
   "id": "728b92e420b5b850",
   "outputs": [
    {
     "name": "stdout",
     "output_type": "stream",
     "text": [
      "0.8402777777777779\n"
     ]
    }
   ],
   "execution_count": 25
  },
  {
   "metadata": {
    "ExecuteTime": {
     "end_time": "2024-07-11T21:38:08.546467Z",
     "start_time": "2024-07-11T21:38:08.541138Z"
    }
   },
   "cell_type": "code",
   "source": [
    "results_df = pd.DataFrame()\n",
    "results_df['learner'] = name_classifiers\n",
    "results_df['k_2'] = scores_k_1\n",
    "results_df['k_5'] = scores_k_2\n",
    "results_df['k_10'] = scores_k_3"
   ],
   "id": "372443a1e0a7aa71",
   "outputs": [],
   "execution_count": 26
  },
  {
   "metadata": {
    "ExecuteTime": {
     "end_time": "2024-07-11T21:38:08.555628Z",
     "start_time": "2024-07-11T21:38:08.546971Z"
    }
   },
   "cell_type": "code",
   "source": "results_df",
   "id": "f533129e93d3c9b6",
   "outputs": [
    {
     "data": {
      "text/plain": [
       "   learner       k_2       k_5      k_10\n",
       "0       RF  0.797475  0.805882  0.827778\n",
       "1      KNN  0.439899  0.477778  0.534722\n",
       "2      MLP  0.742424  0.854902  0.800000\n",
       "3       DT  0.662879  0.672980  0.775505\n",
       "4       NB  0.932828  0.899346  0.887500\n",
       "5       LR  0.809596  0.775817  0.820833\n",
       "6      SVM  0.742677  0.786928  0.798611\n",
       "7  Stacked  0.696717  0.715686  0.840278"
      ],
      "text/html": [
       "<div>\n",
       "<style scoped>\n",
       "    .dataframe tbody tr th:only-of-type {\n",
       "        vertical-align: middle;\n",
       "    }\n",
       "\n",
       "    .dataframe tbody tr th {\n",
       "        vertical-align: top;\n",
       "    }\n",
       "\n",
       "    .dataframe thead th {\n",
       "        text-align: right;\n",
       "    }\n",
       "</style>\n",
       "<table border=\"1\" class=\"dataframe\">\n",
       "  <thead>\n",
       "    <tr style=\"text-align: right;\">\n",
       "      <th></th>\n",
       "      <th>learner</th>\n",
       "      <th>k_2</th>\n",
       "      <th>k_5</th>\n",
       "      <th>k_10</th>\n",
       "    </tr>\n",
       "  </thead>\n",
       "  <tbody>\n",
       "    <tr>\n",
       "      <th>0</th>\n",
       "      <td>RF</td>\n",
       "      <td>0.797475</td>\n",
       "      <td>0.805882</td>\n",
       "      <td>0.827778</td>\n",
       "    </tr>\n",
       "    <tr>\n",
       "      <th>1</th>\n",
       "      <td>KNN</td>\n",
       "      <td>0.439899</td>\n",
       "      <td>0.477778</td>\n",
       "      <td>0.534722</td>\n",
       "    </tr>\n",
       "    <tr>\n",
       "      <th>2</th>\n",
       "      <td>MLP</td>\n",
       "      <td>0.742424</td>\n",
       "      <td>0.854902</td>\n",
       "      <td>0.800000</td>\n",
       "    </tr>\n",
       "    <tr>\n",
       "      <th>3</th>\n",
       "      <td>DT</td>\n",
       "      <td>0.662879</td>\n",
       "      <td>0.672980</td>\n",
       "      <td>0.775505</td>\n",
       "    </tr>\n",
       "    <tr>\n",
       "      <th>4</th>\n",
       "      <td>NB</td>\n",
       "      <td>0.932828</td>\n",
       "      <td>0.899346</td>\n",
       "      <td>0.887500</td>\n",
       "    </tr>\n",
       "    <tr>\n",
       "      <th>5</th>\n",
       "      <td>LR</td>\n",
       "      <td>0.809596</td>\n",
       "      <td>0.775817</td>\n",
       "      <td>0.820833</td>\n",
       "    </tr>\n",
       "    <tr>\n",
       "      <th>6</th>\n",
       "      <td>SVM</td>\n",
       "      <td>0.742677</td>\n",
       "      <td>0.786928</td>\n",
       "      <td>0.798611</td>\n",
       "    </tr>\n",
       "    <tr>\n",
       "      <th>7</th>\n",
       "      <td>Stacked</td>\n",
       "      <td>0.696717</td>\n",
       "      <td>0.715686</td>\n",
       "      <td>0.840278</td>\n",
       "    </tr>\n",
       "  </tbody>\n",
       "</table>\n",
       "</div>"
      ]
     },
     "execution_count": 27,
     "metadata": {},
     "output_type": "execute_result"
    }
   ],
   "execution_count": 27
  },
  {
   "metadata": {
    "ExecuteTime": {
     "end_time": "2024-07-11T21:38:08.763450Z",
     "start_time": "2024-07-11T21:38:08.556633Z"
    }
   },
   "cell_type": "code",
   "source": [
    "# Plotting the data\n",
    "plt.figure(figsize=(12, 6))\n",
    "bar_width = 0.2\n",
    "\n",
    "# Set position of bar on X axis\n",
    "r1 = range(len(results_df))\n",
    "r2 = [x + bar_width for x in r1]\n",
    "r3 = [x + bar_width for x in r2]\n",
    "\n",
    "# Make the plot\n",
    "plt.bar(r1, results_df['k_2'], color='b', width=bar_width, edgecolor='grey', label='k_2')\n",
    "plt.bar(r2, results_df['k_5'], color='g', width=bar_width, edgecolor='grey', label='k_5')\n",
    "plt.bar(r3, results_df['k_10'], color='r', width=bar_width, edgecolor='grey', label='k_10')\n",
    "\n",
    "# Add xticks on the middle of the group bars\n",
    "plt.xlabel('Model', fontweight='bold')\n",
    "plt.ylabel('Recall', fontweight='bold')\n",
    "plt.xticks([r + bar_width for r in range(len(results_df))], results_df['learner'])\n",
    "\n",
    "# Create legend & Show graphic\n",
    "plt.legend()\n",
    "plt.title('Comparison of Classification models for kfold =2, 5, and 10')\n",
    "plt.show()"
   ],
   "id": "66d792572f63fc15",
   "outputs": [
    {
     "data": {
      "text/plain": [
       "<Figure size 1200x600 with 1 Axes>"
      ],
      "image/png": "[encoded data removed]"
     },
     "metadata": {},
     "output_type": "display_data"
    }
   ],
   "execution_count": 28
  }
 ],
 "metadata": {
  "kernelspec": {
   "display_name": "Python 3",
   "language": "python",
   "name": "python3"
  },
  "language_info": {
   "codemirror_mode": {
    "name": "ipython",
    "version": 2
   },
   "file_extension": ".py",
   "mimetype": "text/x-python",
   "name": "python",
   "nbconvert_exporter": "python",
   "pygments_lexer": "ipython2",
   "version": "2.7.6"
  }
 },
 "nbformat": 4,
 "nbformat_minor": 5
}
