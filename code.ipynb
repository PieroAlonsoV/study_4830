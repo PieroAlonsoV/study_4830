{
 "cells": [
  {
   "cell_type": "code",
   "id": "initial_id",
   "metadata": {
    "collapsed": true,
    "ExecuteTime": {
     "end_time": "2024-07-05T05:51:53.557060Z",
     "start_time": "2024-07-05T05:51:53.552450Z"
    }
   },
   "source": [
    "import numpy as np\n",
    "import pandas as pd\n",
    "import matplotlib.pyplot as plt\n",
    "import seaborn as sns\n",
    "import scipy.stats as stats"
   ],
   "outputs": [],
   "execution_count": 1
  },
  {
   "metadata": {
    "ExecuteTime": {
     "end_time": "2024-07-05T05:51:53.632680Z",
     "start_time": "2024-07-05T05:51:53.625059Z"
    }
   },
   "cell_type": "code",
   "source": [
    "import importlib\n",
    "import utils\n",
    "importlib.reload(utils)"
   ],
   "id": "11000f8548fbc84a",
   "outputs": [
    {
     "data": {
      "text/plain": [
       "<module 'utils' from 'D:\\\\3term\\\\DANA 4830\\\\study_4830\\\\utils.py'>"
      ]
     },
     "execution_count": 2,
     "metadata": {},
     "output_type": "execute_result"
    }
   ],
   "execution_count": 2
  },
  {
   "metadata": {
    "ExecuteTime": {
     "end_time": "2024-07-05T05:51:53.672680Z",
     "start_time": "2024-07-05T05:51:53.633689Z"
    }
   },
   "cell_type": "code",
   "source": [
    "df = pd.read_csv('data.csv').drop(columns = 'ID', axis=1)\n",
    "df = df.dropna(axis=0, how='any')\n",
    "X = df.drop(columns = 'class', axis =1 )\n",
    "y = df['class']\n",
    "df.head()"
   ],
   "id": "8da33b9692b5141e",
   "outputs": [
    {
     "data": {
      "text/plain": [
       "   air_time1  disp_index1  gmrt_in_air1  gmrt_on_paper1  max_x_extension1  \\\n",
       "0       5160     0.000013    120.804174       86.853334               957   \n",
       "1      51980     0.000016    115.318238       83.448681              1694   \n",
       "2       2600     0.000010    229.933997      172.761858              2333   \n",
       "3       2130     0.000010    369.403342      183.193104              1756   \n",
       "4       2310     0.000007    257.997131      111.275889               987   \n",
       "\n",
       "   max_y_extension1  mean_acc_in_air1  mean_acc_on_paper1  mean_gmrt1  \\\n",
       "0              6601          0.361800            0.217459  103.828754   \n",
       "1              6998          0.272513            0.144880   99.383459   \n",
       "2              5802          0.387020            0.181342  201.347928   \n",
       "3              8159          0.556879            0.164502  276.298223   \n",
       "4              4732          0.266077            0.145104  184.636510   \n",
       "\n",
       "   mean_jerk_in_air1  ...  mean_jerk_in_air25  mean_jerk_on_paper25  \\\n",
       "0           0.051836  ...            0.141434              0.024471   \n",
       "1           0.039827  ...            0.049663              0.018368   \n",
       "2           0.064220  ...            0.178194              0.017174   \n",
       "3           0.090408  ...            0.113905              0.019860   \n",
       "4           0.037528  ...            0.121782              0.020872   \n",
       "\n",
       "   mean_speed_in_air25  mean_speed_on_paper25  num_of_pendown25  paper_time25  \\\n",
       "0             5.596487               3.184589                71         40120   \n",
       "1             1.665973               0.950249               129        126700   \n",
       "2             4.000781               2.392521                74         45480   \n",
       "3             4.206746               1.613522               123         67945   \n",
       "4             3.319036               1.680629                92         37285   \n",
       "\n",
       "   pressure_mean25  pressure_var25  total_time25  class  \n",
       "0      1749.278166     296102.7676        144605      P  \n",
       "1      1504.768272     278744.2850        298640      P  \n",
       "2      1431.443492     144411.7055         79025      P  \n",
       "3      1465.843329     230184.7154        181220      P  \n",
       "4      1841.702561     158290.0255         72575      P  \n",
       "\n",
       "[5 rows x 451 columns]"
      ],
      "text/html": [
       "<div>\n",
       "<style scoped>\n",
       "    .dataframe tbody tr th:only-of-type {\n",
       "        vertical-align: middle;\n",
       "    }\n",
       "\n",
       "    .dataframe tbody tr th {\n",
       "        vertical-align: top;\n",
       "    }\n",
       "\n",
       "    .dataframe thead th {\n",
       "        text-align: right;\n",
       "    }\n",
       "</style>\n",
       "<table border=\"1\" class=\"dataframe\">\n",
       "  <thead>\n",
       "    <tr style=\"text-align: right;\">\n",
       "      <th></th>\n",
       "      <th>air_time1</th>\n",
       "      <th>disp_index1</th>\n",
       "      <th>gmrt_in_air1</th>\n",
       "      <th>gmrt_on_paper1</th>\n",
       "      <th>max_x_extension1</th>\n",
       "      <th>max_y_extension1</th>\n",
       "      <th>mean_acc_in_air1</th>\n",
       "      <th>mean_acc_on_paper1</th>\n",
       "      <th>mean_gmrt1</th>\n",
       "      <th>mean_jerk_in_air1</th>\n",
       "      <th>...</th>\n",
       "      <th>mean_jerk_in_air25</th>\n",
       "      <th>mean_jerk_on_paper25</th>\n",
       "      <th>mean_speed_in_air25</th>\n",
       "      <th>mean_speed_on_paper25</th>\n",
       "      <th>num_of_pendown25</th>\n",
       "      <th>paper_time25</th>\n",
       "      <th>pressure_mean25</th>\n",
       "      <th>pressure_var25</th>\n",
       "      <th>total_time25</th>\n",
       "      <th>class</th>\n",
       "    </tr>\n",
       "  </thead>\n",
       "  <tbody>\n",
       "    <tr>\n",
       "      <th>0</th>\n",
       "      <td>5160</td>\n",
       "      <td>0.000013</td>\n",
       "      <td>120.804174</td>\n",
       "      <td>86.853334</td>\n",
       "      <td>957</td>\n",
       "      <td>6601</td>\n",
       "      <td>0.361800</td>\n",
       "      <td>0.217459</td>\n",
       "      <td>103.828754</td>\n",
       "      <td>0.051836</td>\n",
       "      <td>...</td>\n",
       "      <td>0.141434</td>\n",
       "      <td>0.024471</td>\n",
       "      <td>5.596487</td>\n",
       "      <td>3.184589</td>\n",
       "      <td>71</td>\n",
       "      <td>40120</td>\n",
       "      <td>1749.278166</td>\n",
       "      <td>296102.7676</td>\n",
       "      <td>144605</td>\n",
       "      <td>P</td>\n",
       "    </tr>\n",
       "    <tr>\n",
       "      <th>1</th>\n",
       "      <td>51980</td>\n",
       "      <td>0.000016</td>\n",
       "      <td>115.318238</td>\n",
       "      <td>83.448681</td>\n",
       "      <td>1694</td>\n",
       "      <td>6998</td>\n",
       "      <td>0.272513</td>\n",
       "      <td>0.144880</td>\n",
       "      <td>99.383459</td>\n",
       "      <td>0.039827</td>\n",
       "      <td>...</td>\n",
       "      <td>0.049663</td>\n",
       "      <td>0.018368</td>\n",
       "      <td>1.665973</td>\n",
       "      <td>0.950249</td>\n",
       "      <td>129</td>\n",
       "      <td>126700</td>\n",
       "      <td>1504.768272</td>\n",
       "      <td>278744.2850</td>\n",
       "      <td>298640</td>\n",
       "      <td>P</td>\n",
       "    </tr>\n",
       "    <tr>\n",
       "      <th>2</th>\n",
       "      <td>2600</td>\n",
       "      <td>0.000010</td>\n",
       "      <td>229.933997</td>\n",
       "      <td>172.761858</td>\n",
       "      <td>2333</td>\n",
       "      <td>5802</td>\n",
       "      <td>0.387020</td>\n",
       "      <td>0.181342</td>\n",
       "      <td>201.347928</td>\n",
       "      <td>0.064220</td>\n",
       "      <td>...</td>\n",
       "      <td>0.178194</td>\n",
       "      <td>0.017174</td>\n",
       "      <td>4.000781</td>\n",
       "      <td>2.392521</td>\n",
       "      <td>74</td>\n",
       "      <td>45480</td>\n",
       "      <td>1431.443492</td>\n",
       "      <td>144411.7055</td>\n",
       "      <td>79025</td>\n",
       "      <td>P</td>\n",
       "    </tr>\n",
       "    <tr>\n",
       "      <th>3</th>\n",
       "      <td>2130</td>\n",
       "      <td>0.000010</td>\n",
       "      <td>369.403342</td>\n",
       "      <td>183.193104</td>\n",
       "      <td>1756</td>\n",
       "      <td>8159</td>\n",
       "      <td>0.556879</td>\n",
       "      <td>0.164502</td>\n",
       "      <td>276.298223</td>\n",
       "      <td>0.090408</td>\n",
       "      <td>...</td>\n",
       "      <td>0.113905</td>\n",
       "      <td>0.019860</td>\n",
       "      <td>4.206746</td>\n",
       "      <td>1.613522</td>\n",
       "      <td>123</td>\n",
       "      <td>67945</td>\n",
       "      <td>1465.843329</td>\n",
       "      <td>230184.7154</td>\n",
       "      <td>181220</td>\n",
       "      <td>P</td>\n",
       "    </tr>\n",
       "    <tr>\n",
       "      <th>4</th>\n",
       "      <td>2310</td>\n",
       "      <td>0.000007</td>\n",
       "      <td>257.997131</td>\n",
       "      <td>111.275889</td>\n",
       "      <td>987</td>\n",
       "      <td>4732</td>\n",
       "      <td>0.266077</td>\n",
       "      <td>0.145104</td>\n",
       "      <td>184.636510</td>\n",
       "      <td>0.037528</td>\n",
       "      <td>...</td>\n",
       "      <td>0.121782</td>\n",
       "      <td>0.020872</td>\n",
       "      <td>3.319036</td>\n",
       "      <td>1.680629</td>\n",
       "      <td>92</td>\n",
       "      <td>37285</td>\n",
       "      <td>1841.702561</td>\n",
       "      <td>158290.0255</td>\n",
       "      <td>72575</td>\n",
       "      <td>P</td>\n",
       "    </tr>\n",
       "  </tbody>\n",
       "</table>\n",
       "<p>5 rows × 451 columns</p>\n",
       "</div>"
      ]
     },
     "execution_count": 3,
     "metadata": {},
     "output_type": "execute_result"
    }
   ],
   "execution_count": 3
  },
  {
   "metadata": {
    "ExecuteTime": {
     "end_time": "2024-07-05T05:51:53.678981Z",
     "start_time": "2024-07-05T05:51:53.673723Z"
    }
   },
   "cell_type": "code",
   "source": "int_columns, float_columns, object_columns, numerical_columns = utils.columns_df(X)",
   "id": "d8a6eac3805c8e52",
   "outputs": [
    {
     "name": "stdout",
     "output_type": "stream",
     "text": [
      "Shape: (174, 450)\n",
      "Numerical features:  450\n",
      "Categorical features:  0\n"
     ]
    }
   ],
   "execution_count": 4
  },
  {
   "metadata": {
    "ExecuteTime": {
     "end_time": "2024-07-05T05:51:53.684946Z",
     "start_time": "2024-07-05T05:51:53.680505Z"
    }
   },
   "cell_type": "code",
   "source": "X_v = pd.DataFrame()",
   "id": "c9d99bf37788bc1c",
   "outputs": [],
   "execution_count": 5
  },
  {
   "metadata": {
    "ExecuteTime": {
     "end_time": "2024-07-05T05:51:53.873325Z",
     "start_time": "2024-07-05T05:51:53.686961Z"
    }
   },
   "cell_type": "code",
   "source": [
    "for r in range(X.shape[0]):\n",
    "    row = X.iloc[r,:]\n",
    "    features = {}\n",
    "    for i in range(25):\n",
    "        task = 'task_' + str(i+1)\n",
    "        i_vector = []\n",
    "        lim_inf = i*18\n",
    "        lim_sup = i*18+17\n",
    "        features[task] = np.array(row[lim_inf:lim_sup+1])\n",
    "    row_df = pd.DataFrame([features])\n",
    "    X_v = pd.concat([X_v, row_df], ignore_index=True)"
   ],
   "id": "e96ec2b2b069b572",
   "outputs": [],
   "execution_count": 6
  },
  {
   "metadata": {},
   "cell_type": "markdown",
   "source": "# PCA",
   "id": "24b81f7f3a579b5a"
  },
  {
   "metadata": {
    "ExecuteTime": {
     "end_time": "2024-07-05T05:51:54.222163Z",
     "start_time": "2024-07-05T05:51:53.874463Z"
    }
   },
   "cell_type": "code",
   "source": [
    "from sklearn.preprocessing import StandardScaler\n",
    "from sklearn.decomposition import PCA\n",
    "X_pca_dict = {}\n",
    "columns_pca_dict = {}\n",
    "for i in range(25):\n",
    "    mytask = 'task_' + str(i+1)\n",
    "    task_i = X_v[mytask]\n",
    "    task_i_df = pd.DataFrame(task_i.tolist(), index = task_i.index)\n",
    "    \n",
    "    scaler = StandardScaler()\n",
    "    X_scaled = scaler.fit_transform(task_i_df)\n",
    "    \n",
    "    pca = PCA(0.8)\n",
    "    X_pca = pca.fit_transform(X_scaled)\n",
    "    n_columns_pca = X_pca.shape[1]\n",
    "    \n",
    "    columns_pca = [mytask+'_PC_'+str(i+1) for i in range(n_columns_pca)]\n",
    "    columns_pca_dict[mytask] = columns_pca\n",
    "    \n",
    "    X_pca_df = pd.DataFrame(X_pca)\n",
    "    X_pca_df.columns = columns_pca\n",
    "    X_pca_dict[mytask] = X_pca_df"
   ],
   "id": "5683c1a772d5e16a",
   "outputs": [],
   "execution_count": 7
  },
  {
   "metadata": {
    "ExecuteTime": {
     "end_time": "2024-07-05T05:51:54.233956Z",
     "start_time": "2024-07-05T05:51:54.224172Z"
    }
   },
   "cell_type": "code",
   "source": [
    "df_of_pca = pd.DataFrame()\n",
    "for k, v in X_pca_dict.items():\n",
    "    df_of_pca = pd.concat([df_of_pca, X_pca_dict[k]], axis=1)"
   ],
   "id": "c61074dad954581f",
   "outputs": [],
   "execution_count": 8
  },
  {
   "metadata": {
    "ExecuteTime": {
     "end_time": "2024-07-05T05:51:54.237893Z",
     "start_time": "2024-07-05T05:51:54.234965Z"
    }
   },
   "cell_type": "code",
   "source": [
    "print('Original shape: ', X.shape)\n",
    "print('New shape, after PCA: ',df_of_pca.shape)"
   ],
   "id": "5a9649f1ae00b150",
   "outputs": [
    {
     "name": "stdout",
     "output_type": "stream",
     "text": [
      "Original shape:  (174, 450)\n",
      "New shape, after PCA:  (174, 125)\n"
     ]
    }
   ],
   "execution_count": 9
  },
  {
   "metadata": {},
   "cell_type": "markdown",
   "source": "# Train and test dataset split",
   "id": "b01b7b9d113ae538"
  },
  {
   "metadata": {
    "ExecuteTime": {
     "end_time": "2024-07-05T05:51:54.243925Z",
     "start_time": "2024-07-05T05:51:54.238903Z"
    }
   },
   "cell_type": "code",
   "source": [
    "from sklearn.model_selection import train_test_split\n",
    "X_train, X_test, y_train, y_test = train_test_split(X, y, test_size=0.2, random_state=123)\n",
    "print(X_train.shape, y_train.shape)\n",
    "print(X_test.shape, y_test.shape)"
   ],
   "id": "2cb58381df331707",
   "outputs": [
    {
     "name": "stdout",
     "output_type": "stream",
     "text": [
      "(139, 450) (139,)\n",
      "(35, 450) (35,)\n"
     ]
    }
   ],
   "execution_count": 10
  },
  {
   "metadata": {
    "ExecuteTime": {
     "end_time": "2024-07-05T05:51:54.249444Z",
     "start_time": "2024-07-05T05:51:54.244943Z"
    }
   },
   "cell_type": "code",
   "source": [
    "X_train2, X_test2, y_train2, y_test2 = train_test_split(df_of_pca, y, test_size=0.2, random_state=123)\n",
    "print(X_train2.shape, y_train2.shape)\n",
    "print(X_test2.shape, y_test2.shape)"
   ],
   "id": "532cb373123e3924",
   "outputs": [
    {
     "name": "stdout",
     "output_type": "stream",
     "text": [
      "(139, 125) (139,)\n",
      "(35, 125) (35,)\n"
     ]
    }
   ],
   "execution_count": 11
  },
  {
   "metadata": {},
   "cell_type": "markdown",
   "source": "# 1. Full Dataset",
   "id": "63cb7ce1b3b27078"
  },
  {
   "metadata": {
    "ExecuteTime": {
     "end_time": "2024-07-05T05:51:54.281703Z",
     "start_time": "2024-07-05T05:51:54.249966Z"
    }
   },
   "cell_type": "code",
   "source": [
    "from sklearn.tree import DecisionTreeClassifier\n",
    "from sklearn.metrics import accuracy_score"
   ],
   "id": "548248419503dafe",
   "outputs": [],
   "execution_count": 12
  },
  {
   "metadata": {
    "ExecuteTime": {
     "end_time": "2024-07-05T05:51:58.185023Z",
     "start_time": "2024-07-05T05:51:54.282721Z"
    }
   },
   "cell_type": "code",
   "source": [
    "accuracy_full = []\n",
    "for f in range(100):\n",
    "    clf = DecisionTreeClassifier()\n",
    "    clf.fit(X_train, y_train) \n",
    "    y_pred = clf.predict(X_test) \n",
    "    accuracy_full.append(accuracy_score(y_test, y_pred))"
   ],
   "id": "f75c29f477596dd5",
   "outputs": [],
   "execution_count": 13
  },
  {
   "metadata": {
    "ExecuteTime": {
     "end_time": "2024-07-05T05:51:58.380264Z",
     "start_time": "2024-07-05T05:51:58.186028Z"
    }
   },
   "cell_type": "code",
   "source": [
    "sns.histplot(accuracy_full)\n",
    "plt.title('Accuracy score distribution - Full dataset')\n",
    "plt.show()"
   ],
   "id": "9864a9ea6b344bf0",
   "outputs": [
    {
     "data": {
      "text/plain": [
       "<Figure size 640x480 with 1 Axes>"
      ],
      "image/png": "[encoded data removed]"
     },
     "metadata": {},
     "output_type": "display_data"
    }
   ],
   "execution_count": 14
  },
  {
   "metadata": {
    "ExecuteTime": {
     "end_time": "2024-07-05T05:51:58.384689Z",
     "start_time": "2024-07-05T05:51:58.381270Z"
    }
   },
   "cell_type": "code",
   "source": [
    "print('Mean: ', round(np.mean(accuracy_full),2))\n",
    "print('Sd: ', round(np.std(accuracy_full),2))"
   ],
   "id": "bb2f0371e20dca98",
   "outputs": [
    {
     "name": "stdout",
     "output_type": "stream",
     "text": [
      "Mean:  0.8\n",
      "Sd:  0.04\n"
     ]
    }
   ],
   "execution_count": 15
  },
  {
   "metadata": {},
   "cell_type": "markdown",
   "source": "# 2. PCA dataset",
   "id": "79daa03a76051f55"
  },
  {
   "metadata": {
    "ExecuteTime": {
     "end_time": "2024-07-05T05:51:59.949315Z",
     "start_time": "2024-07-05T05:51:58.385694Z"
    }
   },
   "cell_type": "code",
   "source": [
    "accuracy_pca = []\n",
    "for f in range(100):\n",
    "    clf2 = DecisionTreeClassifier()\n",
    "    clf2.fit(X_train2, y_train2) \n",
    "    y_pred2 = clf2.predict(X_test2)\n",
    "    accuracy_pca.append(accuracy_score(y_test2, y_pred2))"
   ],
   "id": "832ca1f3a1de9a7d",
   "outputs": [],
   "execution_count": 16
  },
  {
   "metadata": {
    "ExecuteTime": {
     "end_time": "2024-07-05T05:52:00.374221Z",
     "start_time": "2024-07-05T05:51:59.950320Z"
    }
   },
   "cell_type": "code",
   "source": [
    "sns.histplot(accuracy_pca)\n",
    "plt.title('Accuracy score distribution - PCA dataset')\n",
    "plt.show()"
   ],
   "id": "d364c7cb7dc8d5ff",
   "outputs": [
    {
     "data": {
      "text/plain": [
       "<Figure size 640x480 with 1 Axes>"
      ],
      "image/png": "[encoded data removed]"
     },
     "metadata": {},
     "output_type": "display_data"
    }
   ],
   "execution_count": 17
  },
  {
   "metadata": {
    "ExecuteTime": {
     "end_time": "2024-07-05T05:52:00.383506Z",
     "start_time": "2024-07-05T05:52:00.375225Z"
    }
   },
   "cell_type": "code",
   "source": [
    "print('Mean: ', round(np.mean(accuracy_pca),2))\n",
    "print('Sd: ', round(np.std(accuracy_pca),2))"
   ],
   "id": "4b149e793c8c4444",
   "outputs": [
    {
     "name": "stdout",
     "output_type": "stream",
     "text": [
      "Mean:  0.72\n",
      "Sd:  0.03\n"
     ]
    }
   ],
   "execution_count": 18
  },
  {
   "metadata": {},
   "cell_type": "markdown",
   "source": "# Combined Decision Trees",
   "id": "d0b302f16c6d77d8"
  },
  {
   "metadata": {
    "ExecuteTime": {
     "end_time": "2024-07-05T05:52:09.960407Z",
     "start_time": "2024-07-05T05:52:00.385513Z"
    }
   },
   "cell_type": "code",
   "source": [
    "accuracy_combined = []\n",
    "for f in range(100):\n",
    "    predict_dict = {}\n",
    "    for t, columns in columns_pca_dict.items():\n",
    "        X_train2_i = X_train2[columns]\n",
    "        X_test2_i = X_test2[columns]\n",
    "    \n",
    "        clf_i = DecisionTreeClassifier()\n",
    "        clf_i.fit(X_train2_i, y_train2)\n",
    "        y_pred_i = clf_i.predict(X_test2_i)\n",
    "        \n",
    "        predict_dict[t] = y_pred_i\n",
    "        \n",
    "    predict_tuple = tuple([i for i in predict_dict.values()])\n",
    "    pred_accumulate = np.vstack(predict_tuple).T\n",
    "    \n",
    "    y_pred_combined = np.apply_along_axis(utils.most_frequent, 1, pred_accumulate)\n",
    "    \n",
    "    accuracy_combined.append(accuracy_score(y_test, y_pred_combined))"
   ],
   "id": "1f39cd7b266625b6",
   "outputs": [],
   "execution_count": 19
  },
  {
   "metadata": {
    "ExecuteTime": {
     "end_time": "2024-07-05T05:52:10.085527Z",
     "start_time": "2024-07-05T05:52:09.961411Z"
    }
   },
   "cell_type": "code",
   "source": [
    "sns.histplot(accuracy_combined)\n",
    "plt.title('Accuracy score distribution - PCA dataset + Combined D. Tree')\n",
    "plt.show()"
   ],
   "id": "caf11108caa14b89",
   "outputs": [
    {
     "data": {
      "text/plain": [
       "<Figure size 640x480 with 1 Axes>"
      ],
      "image/png": "[encoded data removed]"
     },
     "metadata": {},
     "output_type": "display_data"
    }
   ],
   "execution_count": 20
  },
  {
   "metadata": {
    "ExecuteTime": {
     "end_time": "2024-07-05T05:52:10.089949Z",
     "start_time": "2024-07-05T05:52:10.086532Z"
    }
   },
   "cell_type": "code",
   "source": [
    "print('Mean: ', round(np.mean(accuracy_combined),2))\n",
    "print('Sd: ', round(np.std(accuracy_combined),2))"
   ],
   "id": "60b6d9c0a32e0f8a",
   "outputs": [
    {
     "name": "stdout",
     "output_type": "stream",
     "text": [
      "Mean:  0.74\n",
      "Sd:  0.03\n"
     ]
    }
   ],
   "execution_count": 21
  },
  {
   "metadata": {},
   "cell_type": "markdown",
   "source": "# Comparing three approaches (Full dataset, PCA dataset, and Combined Decision Trees)",
   "id": "e0ca7ed26c2d5c29"
  },
  {
   "metadata": {
    "ExecuteTime": {
     "end_time": "2024-07-05T05:52:10.098395Z",
     "start_time": "2024-07-05T05:52:10.090975Z"
    }
   },
   "cell_type": "code",
   "source": [
    "df_result = pd.DataFrame(\n",
    "{'Dataset': ['Full dataset', 'PCA dataset','PCA dataset'  ]\n",
    ",'Model': ['1 D. Tree m.', '1 D. Tree m. (PCA)', '25 Combined D. Trees (PCA)']\n",
    ",'Accuracy score':\n",
    "        [np.mean(accuracy_full)\n",
    "         ,np.mean(accuracy_pca)\n",
    "         ,np.mean(accuracy_combined)\n",
    "        ]\n",
    "     })\n",
    "df_result"
   ],
   "id": "b55fe6fe3400cebf",
   "outputs": [
    {
     "data": {
      "text/plain": [
       "        Dataset                       Model  Accuracy score\n",
       "0  Full dataset                1 D. Tree m.        0.799143\n",
       "1   PCA dataset          1 D. Tree m. (PCA)        0.723429\n",
       "2   PCA dataset  25 Combined D. Trees (PCA)        0.738857"
      ],
      "text/html": [
       "<div>\n",
       "<style scoped>\n",
       "    .dataframe tbody tr th:only-of-type {\n",
       "        vertical-align: middle;\n",
       "    }\n",
       "\n",
       "    .dataframe tbody tr th {\n",
       "        vertical-align: top;\n",
       "    }\n",
       "\n",
       "    .dataframe thead th {\n",
       "        text-align: right;\n",
       "    }\n",
       "</style>\n",
       "<table border=\"1\" class=\"dataframe\">\n",
       "  <thead>\n",
       "    <tr style=\"text-align: right;\">\n",
       "      <th></th>\n",
       "      <th>Dataset</th>\n",
       "      <th>Model</th>\n",
       "      <th>Accuracy score</th>\n",
       "    </tr>\n",
       "  </thead>\n",
       "  <tbody>\n",
       "    <tr>\n",
       "      <th>0</th>\n",
       "      <td>Full dataset</td>\n",
       "      <td>1 D. Tree m.</td>\n",
       "      <td>0.799143</td>\n",
       "    </tr>\n",
       "    <tr>\n",
       "      <th>1</th>\n",
       "      <td>PCA dataset</td>\n",
       "      <td>1 D. Tree m. (PCA)</td>\n",
       "      <td>0.723429</td>\n",
       "    </tr>\n",
       "    <tr>\n",
       "      <th>2</th>\n",
       "      <td>PCA dataset</td>\n",
       "      <td>25 Combined D. Trees (PCA)</td>\n",
       "      <td>0.738857</td>\n",
       "    </tr>\n",
       "  </tbody>\n",
       "</table>\n",
       "</div>"
      ]
     },
     "execution_count": 22,
     "metadata": {},
     "output_type": "execute_result"
    }
   ],
   "execution_count": 22
  },
  {
   "metadata": {},
   "cell_type": "markdown",
   "source": "",
   "id": "78dc247400ac2ffb"
  },
  {
   "metadata": {
    "ExecuteTime": {
     "end_time": "2024-07-05T05:52:10.205765Z",
     "start_time": "2024-07-05T05:52:10.099906Z"
    }
   },
   "cell_type": "code",
   "source": [
    "sns.barplot(x= 'Model',y= 'Accuracy score' , data=df_result)\n",
    "plt.title('Comparison')\n",
    "plt.xticks(rotation=45)\n",
    "plt.show()"
   ],
   "id": "30400f21c7c991fa",
   "outputs": [
    {
     "data": {
      "text/plain": [
       "<Figure size 640x480 with 1 Axes>"
      ],
      "image/png": "[encoded data removed]"
     },
     "metadata": {},
     "output_type": "display_data"
    }
   ],
   "execution_count": 23
  }
 ],
 "metadata": {
  "kernelspec": {
   "display_name": "Python 3",
   "language": "python",
   "name": "python3"
  },
  "language_info": {
   "codemirror_mode": {
    "name": "ipython",
    "version": 2
   },
   "file_extension": ".py",
   "mimetype": "text/x-python",
   "name": "python",
   "nbconvert_exporter": "python",
   "pygments_lexer": "ipython2",
   "version": "2.7.6"
  }
 },
 "nbformat": 4,
 "nbformat_minor": 5
}
